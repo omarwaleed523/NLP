{
 "cells": [
  {
   "cell_type": "markdown",
   "id": "871ba1c6",
   "metadata": {},
   "source": [
    "# Fine-tuning AraBERT for Multi-Task Arabic Text Classification\n",
    "\n",
    "This notebook demonstrates how to fine-tune AraBERT model for multi-task classification on Arabic tweets. We'll be classifying:\n",
    "1. Sarcasm detection (True/False)\n",
    "2. Sentiment analysis (Positive, Negative, Neutral)\n",
    "3. Dialect identification (MSA, Gulf, Egyptian, etc.)\n",
    "\n",
    "AraBERT is pre-trained on MSA (Modern Standard Arabic) text and performs well on formal Arabic text classification tasks."
   ]
  },
  {
   "cell_type": "markdown",
   "id": "edecbbac",
   "metadata": {},
   "source": [
    "## 1. Install Required Libraries"
   ]
  },
  {
   "cell_type": "code",
   "execution_count": 2,
   "id": "1e517bc4",
   "metadata": {},
   "outputs": [
    {
     "name": "stdout",
     "output_type": "stream",
     "text": [
      "Collecting transformers\n",
      "  Downloading transformers-4.51.3-py3-none-any.whl.metadata (38 kB)\n",
      "Collecting datasets\n",
      "  Downloading datasets-3.5.1-py3-none-any.whl.metadata (19 kB)\n",
      "Requirement already satisfied: scikit-learn in /system/conda/miniconda3/envs/cloudspace/lib/python3.10/site-packages (1.3.2)\n",
      "Requirement already satisfied: pandas in /system/conda/miniconda3/envs/cloudspace/lib/python3.10/site-packages (2.1.4)\n",
      "Requirement already satisfied: matplotlib in /system/conda/miniconda3/envs/cloudspace/lib/python3.10/site-packages (3.8.2)\n",
      "Collecting seaborn\n",
      "  Downloading seaborn-0.13.2-py3-none-any.whl.metadata (5.4 kB)\n",
      "Requirement already satisfied: numpy in /system/conda/miniconda3/envs/cloudspace/lib/python3.10/site-packages (1.26.4)\n",
      "Requirement already satisfied: torch in /system/conda/miniconda3/envs/cloudspace/lib/python3.10/site-packages (2.7.0+cu128)\n",
      "Collecting farasapy\n",
      "  Downloading farasapy-0.0.14-py3-none-any.whl.metadata (8.9 kB)\n",
      "Collecting py7zr\n",
      "  Downloading py7zr-0.22.0-py3-none-any.whl.metadata (16 kB)\n",
      "Requirement already satisfied: filelock in /system/conda/miniconda3/envs/cloudspace/lib/python3.10/site-packages (from transformers) (3.18.0)\n",
      "Collecting huggingface-hub<1.0,>=0.30.0 (from transformers)\n",
      "  Downloading huggingface_hub-0.30.2-py3-none-any.whl.metadata (13 kB)\n",
      "Requirement already satisfied: packaging>=20.0 in /system/conda/miniconda3/envs/cloudspace/lib/python3.10/site-packages (from transformers) (24.2)\n",
      "Requirement already satisfied: pyyaml>=5.1 in /system/conda/miniconda3/envs/cloudspace/lib/python3.10/site-packages (from transformers) (6.0.2)\n",
      "Collecting regex!=2019.12.17 (from transformers)\n",
      "  Downloading regex-2024.11.6-cp310-cp310-manylinux_2_17_x86_64.manylinux2014_x86_64.whl.metadata (40 kB)\n",
      "Requirement already satisfied: requests in /system/conda/miniconda3/envs/cloudspace/lib/python3.10/site-packages (from transformers) (2.32.3)\n",
      "Collecting tokenizers<0.22,>=0.21 (from transformers)\n",
      "  Downloading tokenizers-0.21.1-cp39-abi3-manylinux_2_17_x86_64.manylinux2014_x86_64.whl.metadata (6.8 kB)\n",
      "Collecting safetensors>=0.4.3 (from transformers)\n",
      "  Downloading safetensors-0.5.3-cp38-abi3-manylinux_2_17_x86_64.manylinux2014_x86_64.whl.metadata (3.8 kB)\n",
      "Requirement already satisfied: tqdm>=4.27 in /system/conda/miniconda3/envs/cloudspace/lib/python3.10/site-packages (from transformers) (4.67.1)\n",
      "Collecting pyarrow>=15.0.0 (from datasets)\n",
      "  Downloading pyarrow-20.0.0-cp310-cp310-manylinux_2_28_x86_64.whl.metadata (3.3 kB)\n",
      "Collecting dill<0.3.9,>=0.3.0 (from datasets)\n",
      "  Downloading dill-0.3.8-py3-none-any.whl.metadata (10 kB)\n",
      "Collecting xxhash (from datasets)\n",
      "  Downloading xxhash-3.5.0-cp310-cp310-manylinux_2_17_x86_64.manylinux2014_x86_64.whl.metadata (12 kB)\n",
      "Collecting multiprocess<0.70.17 (from datasets)\n",
      "  Downloading multiprocess-0.70.16-py310-none-any.whl.metadata (7.2 kB)\n",
      "Collecting fsspec<=2025.3.0,>=2023.1.0 (from fsspec[http]<=2025.3.0,>=2023.1.0->datasets)\n",
      "  Downloading fsspec-2025.3.0-py3-none-any.whl.metadata (11 kB)\n",
      "Requirement already satisfied: aiohttp in /system/conda/miniconda3/envs/cloudspace/lib/python3.10/site-packages (from datasets) (3.11.18)\n",
      "Requirement already satisfied: scipy>=1.5.0 in /system/conda/miniconda3/envs/cloudspace/lib/python3.10/site-packages (from scikit-learn) (1.11.4)\n",
      "Requirement already satisfied: joblib>=1.1.1 in /system/conda/miniconda3/envs/cloudspace/lib/python3.10/site-packages (from scikit-learn) (1.4.2)\n",
      "Requirement already satisfied: threadpoolctl>=2.0.0 in /system/conda/miniconda3/envs/cloudspace/lib/python3.10/site-packages (from scikit-learn) (3.6.0)\n",
      "Requirement already satisfied: python-dateutil>=2.8.2 in /system/conda/miniconda3/envs/cloudspace/lib/python3.10/site-packages (from pandas) (2.9.0.post0)\n",
      "Requirement already satisfied: pytz>=2020.1 in /system/conda/miniconda3/envs/cloudspace/lib/python3.10/site-packages (from pandas) (2025.2)\n",
      "Requirement already satisfied: tzdata>=2022.1 in /system/conda/miniconda3/envs/cloudspace/lib/python3.10/site-packages (from pandas) (2025.2)\n",
      "Requirement already satisfied: contourpy>=1.0.1 in /system/conda/miniconda3/envs/cloudspace/lib/python3.10/site-packages (from matplotlib) (1.3.2)\n",
      "Requirement already satisfied: cycler>=0.10 in /system/conda/miniconda3/envs/cloudspace/lib/python3.10/site-packages (from matplotlib) (0.12.1)\n",
      "Requirement already satisfied: fonttools>=4.22.0 in /system/conda/miniconda3/envs/cloudspace/lib/python3.10/site-packages (from matplotlib) (4.57.0)\n",
      "Requirement already satisfied: kiwisolver>=1.3.1 in /system/conda/miniconda3/envs/cloudspace/lib/python3.10/site-packages (from matplotlib) (1.4.8)\n",
      "Requirement already satisfied: pillow>=8 in /system/conda/miniconda3/envs/cloudspace/lib/python3.10/site-packages (from matplotlib) (11.2.1)\n",
      "Requirement already satisfied: pyparsing>=2.3.1 in /system/conda/miniconda3/envs/cloudspace/lib/python3.10/site-packages (from matplotlib) (3.2.3)\n",
      "Requirement already satisfied: typing-extensions>=4.10.0 in /system/conda/miniconda3/envs/cloudspace/lib/python3.10/site-packages (from torch) (4.13.2)\n",
      "Requirement already satisfied: sympy>=1.13.3 in /system/conda/miniconda3/envs/cloudspace/lib/python3.10/site-packages (from torch) (1.13.3)\n",
      "Requirement already satisfied: networkx in /system/conda/miniconda3/envs/cloudspace/lib/python3.10/site-packages (from torch) (3.4.2)\n",
      "Requirement already satisfied: jinja2 in /system/conda/miniconda3/envs/cloudspace/lib/python3.10/site-packages (from torch) (3.1.6)\n",
      "Requirement already satisfied: nvidia-cuda-nvrtc-cu12==12.8.61 in /system/conda/miniconda3/envs/cloudspace/lib/python3.10/site-packages (from torch) (12.8.61)\n",
      "Requirement already satisfied: nvidia-cuda-runtime-cu12==12.8.57 in /system/conda/miniconda3/envs/cloudspace/lib/python3.10/site-packages (from torch) (12.8.57)\n",
      "Requirement already satisfied: nvidia-cuda-cupti-cu12==12.8.57 in /system/conda/miniconda3/envs/cloudspace/lib/python3.10/site-packages (from torch) (12.8.57)\n",
      "Requirement already satisfied: nvidia-cudnn-cu12==9.7.1.26 in /system/conda/miniconda3/envs/cloudspace/lib/python3.10/site-packages (from torch) (9.7.1.26)\n",
      "Requirement already satisfied: nvidia-cublas-cu12==12.8.3.14 in /system/conda/miniconda3/envs/cloudspace/lib/python3.10/site-packages (from torch) (12.8.3.14)\n",
      "Requirement already satisfied: nvidia-cufft-cu12==11.3.3.41 in /system/conda/miniconda3/envs/cloudspace/lib/python3.10/site-packages (from torch) (11.3.3.41)\n",
      "Requirement already satisfied: nvidia-curand-cu12==10.3.9.55 in /system/conda/miniconda3/envs/cloudspace/lib/python3.10/site-packages (from torch) (10.3.9.55)\n",
      "Requirement already satisfied: nvidia-cusolver-cu12==11.7.2.55 in /system/conda/miniconda3/envs/cloudspace/lib/python3.10/site-packages (from torch) (11.7.2.55)\n",
      "Requirement already satisfied: nvidia-cusparse-cu12==12.5.7.53 in /system/conda/miniconda3/envs/cloudspace/lib/python3.10/site-packages (from torch) (12.5.7.53)\n",
      "Requirement already satisfied: nvidia-cusparselt-cu12==0.6.3 in /system/conda/miniconda3/envs/cloudspace/lib/python3.10/site-packages (from torch) (0.6.3)\n",
      "Requirement already satisfied: nvidia-nccl-cu12==2.26.2 in /system/conda/miniconda3/envs/cloudspace/lib/python3.10/site-packages (from torch) (2.26.2)\n",
      "Requirement already satisfied: nvidia-nvtx-cu12==12.8.55 in /system/conda/miniconda3/envs/cloudspace/lib/python3.10/site-packages (from torch) (12.8.55)\n",
      "Requirement already satisfied: nvidia-nvjitlink-cu12==12.8.61 in /system/conda/miniconda3/envs/cloudspace/lib/python3.10/site-packages (from torch) (12.8.61)\n",
      "Requirement already satisfied: nvidia-cufile-cu12==1.13.0.11 in /system/conda/miniconda3/envs/cloudspace/lib/python3.10/site-packages (from torch) (1.13.0.11)\n",
      "Requirement already satisfied: triton==3.3.0 in /system/conda/miniconda3/envs/cloudspace/lib/python3.10/site-packages (from torch) (3.3.0)\n",
      "Requirement already satisfied: setuptools>=40.8.0 in /system/conda/miniconda3/envs/cloudspace/lib/python3.10/site-packages (from triton==3.3.0->torch) (75.8.0)\n",
      "Collecting texttable (from py7zr)\n",
      "  Downloading texttable-1.7.0-py2.py3-none-any.whl.metadata (9.8 kB)\n",
      "Collecting pycryptodomex>=3.16.0 (from py7zr)\n",
      "  Downloading pycryptodomex-3.22.0-cp37-abi3-manylinux_2_17_x86_64.manylinux2014_x86_64.whl.metadata (3.4 kB)\n",
      "Collecting pyzstd>=0.15.9 (from py7zr)\n",
      "  Downloading pyzstd-0.16.2-cp310-cp310-manylinux_2_17_x86_64.manylinux2014_x86_64.whl.metadata (2.4 kB)\n",
      "Collecting pyppmd<1.2.0,>=1.1.0 (from py7zr)\n",
      "  Downloading pyppmd-1.1.1-cp310-cp310-manylinux_2_17_x86_64.manylinux2014_x86_64.whl.metadata (5.5 kB)\n",
      "Collecting pybcj<1.1.0,>=1.0.0 (from py7zr)\n",
      "  Downloading pybcj-1.0.6-cp310-cp310-manylinux_2_17_x86_64.manylinux2014_x86_64.whl.metadata (3.7 kB)\n",
      "Collecting multivolumefile>=0.2.3 (from py7zr)\n",
      "  Downloading multivolumefile-0.2.3-py3-none-any.whl.metadata (6.3 kB)\n",
      "Collecting inflate64<1.1.0,>=1.0.0 (from py7zr)\n",
      "  Downloading inflate64-1.0.1-cp310-cp310-manylinux_2_17_x86_64.manylinux2014_x86_64.whl.metadata (3.8 kB)\n",
      "Collecting brotli>=1.1.0 (from py7zr)\n",
      "  Downloading Brotli-1.1.0-cp310-cp310-manylinux_2_5_x86_64.manylinux1_x86_64.manylinux_2_12_x86_64.manylinux2010_x86_64.whl.metadata (5.5 kB)\n",
      "Requirement already satisfied: psutil in /system/conda/miniconda3/envs/cloudspace/lib/python3.10/site-packages (from py7zr) (7.0.0)\n",
      "Requirement already satisfied: aiohappyeyeballs>=2.3.0 in /system/conda/miniconda3/envs/cloudspace/lib/python3.10/site-packages (from aiohttp->datasets) (2.6.1)\n",
      "Requirement already satisfied: aiosignal>=1.1.2 in /system/conda/miniconda3/envs/cloudspace/lib/python3.10/site-packages (from aiohttp->datasets) (1.3.2)\n",
      "Requirement already satisfied: async-timeout<6.0,>=4.0 in /system/conda/miniconda3/envs/cloudspace/lib/python3.10/site-packages (from aiohttp->datasets) (5.0.1)\n",
      "Requirement already satisfied: attrs>=17.3.0 in /system/conda/miniconda3/envs/cloudspace/lib/python3.10/site-packages (from aiohttp->datasets) (25.3.0)\n",
      "Requirement already satisfied: frozenlist>=1.1.1 in /system/conda/miniconda3/envs/cloudspace/lib/python3.10/site-packages (from aiohttp->datasets) (1.6.0)\n",
      "Requirement already satisfied: multidict<7.0,>=4.5 in /system/conda/miniconda3/envs/cloudspace/lib/python3.10/site-packages (from aiohttp->datasets) (6.4.3)\n",
      "Requirement already satisfied: propcache>=0.2.0 in /system/conda/miniconda3/envs/cloudspace/lib/python3.10/site-packages (from aiohttp->datasets) (0.3.1)\n",
      "Requirement already satisfied: yarl<2.0,>=1.17.0 in /system/conda/miniconda3/envs/cloudspace/lib/python3.10/site-packages (from aiohttp->datasets) (1.20.0)\n",
      "Requirement already satisfied: six>=1.5 in /system/conda/miniconda3/envs/cloudspace/lib/python3.10/site-packages (from python-dateutil>=2.8.2->pandas) (1.17.0)\n",
      "Requirement already satisfied: charset-normalizer<4,>=2 in /system/conda/miniconda3/envs/cloudspace/lib/python3.10/site-packages (from requests->transformers) (3.4.1)\n",
      "Requirement already satisfied: idna<4,>=2.5 in /system/conda/miniconda3/envs/cloudspace/lib/python3.10/site-packages (from requests->transformers) (3.10)\n",
      "Requirement already satisfied: urllib3<3,>=1.21.1 in /system/conda/miniconda3/envs/cloudspace/lib/python3.10/site-packages (from requests->transformers) (2.4.0)\n",
      "Requirement already satisfied: certifi>=2017.4.17 in /system/conda/miniconda3/envs/cloudspace/lib/python3.10/site-packages (from requests->transformers) (2025.1.31)\n",
      "Requirement already satisfied: mpmath<1.4,>=1.1.0 in /system/conda/miniconda3/envs/cloudspace/lib/python3.10/site-packages (from sympy>=1.13.3->torch) (1.3.0)\n",
      "Requirement already satisfied: MarkupSafe>=2.0 in /system/conda/miniconda3/envs/cloudspace/lib/python3.10/site-packages (from jinja2->torch) (3.0.2)\n",
      "Downloading transformers-4.51.3-py3-none-any.whl (10.4 MB)\n",
      "\u001b[2K   \u001b[90m━━━━━━━━━━━━━━━━━━━━━━━━━━━━━━━━━━━━━━━━\u001b[0m \u001b[32m10.4/10.4 MB\u001b[0m \u001b[31m183.2 MB/s\u001b[0m eta \u001b[36m0:00:00\u001b[0m\n",
      "\u001b[?25hDownloading datasets-3.5.1-py3-none-any.whl (491 kB)\n",
      "Downloading seaborn-0.13.2-py3-none-any.whl (294 kB)\n",
      "Downloading farasapy-0.0.14-py3-none-any.whl (11 kB)\n",
      "Downloading py7zr-0.22.0-py3-none-any.whl (67 kB)\n",
      "Downloading Brotli-1.1.0-cp310-cp310-manylinux_2_5_x86_64.manylinux1_x86_64.manylinux_2_12_x86_64.manylinux2010_x86_64.whl (3.0 MB)\n",
      "\u001b[2K   \u001b[90m━━━━━━━━━━━━━━━━━━━━━━━━━━━━━━━━━━━━━━━━\u001b[0m \u001b[32m3.0/3.0 MB\u001b[0m \u001b[31m176.7 MB/s\u001b[0m eta \u001b[36m0:00:00\u001b[0m\n",
      "\u001b[?25hDownloading dill-0.3.8-py3-none-any.whl (116 kB)\n",
      "Downloading fsspec-2025.3.0-py3-none-any.whl (193 kB)\n",
      "Downloading huggingface_hub-0.30.2-py3-none-any.whl (481 kB)\n",
      "Downloading inflate64-1.0.1-cp310-cp310-manylinux_2_17_x86_64.manylinux2014_x86_64.whl (93 kB)\n",
      "Downloading multiprocess-0.70.16-py310-none-any.whl (134 kB)\n",
      "Downloading multivolumefile-0.2.3-py3-none-any.whl (17 kB)\n",
      "Downloading pyarrow-20.0.0-cp310-cp310-manylinux_2_28_x86_64.whl (42.3 MB)\n",
      "\u001b[2K   \u001b[90m━━━━━━━━━━━━━━━━━━━━━━━━━━━━━━━━━━━━━━━━\u001b[0m \u001b[32m42.3/42.3 MB\u001b[0m \u001b[31m207.9 MB/s\u001b[0m eta \u001b[36m0:00:00\u001b[0m00:01\u001b[0m\n",
      "\u001b[?25hDownloading pybcj-1.0.6-cp310-cp310-manylinux_2_17_x86_64.manylinux2014_x86_64.whl (49 kB)\n",
      "Downloading pycryptodomex-3.22.0-cp37-abi3-manylinux_2_17_x86_64.manylinux2014_x86_64.whl (2.3 MB)\n",
      "\u001b[2K   \u001b[90m━━━━━━━━━━━━━━━━━━━━━━━━━━━━━━━━━━━━━━━━\u001b[0m \u001b[32m2.3/2.3 MB\u001b[0m \u001b[31m157.1 MB/s\u001b[0m eta \u001b[36m0:00:00\u001b[0m\n",
      "\u001b[?25hDownloading pyppmd-1.1.1-cp310-cp310-manylinux_2_17_x86_64.manylinux2014_x86_64.whl (138 kB)\n",
      "Downloading pyzstd-0.16.2-cp310-cp310-manylinux_2_17_x86_64.manylinux2014_x86_64.whl (413 kB)\n",
      "Downloading regex-2024.11.6-cp310-cp310-manylinux_2_17_x86_64.manylinux2014_x86_64.whl (781 kB)\n",
      "\u001b[2K   \u001b[90m━━━━━━━━━━━━━━━━━━━━━━━━━━━━━━━━━━━━━━━\u001b[0m \u001b[32m781.7/781.7 kB\u001b[0m \u001b[31m110.8 MB/s\u001b[0m eta \u001b[36m0:00:00\u001b[0m\n",
      "\u001b[?25hDownloading safetensors-0.5.3-cp38-abi3-manylinux_2_17_x86_64.manylinux2014_x86_64.whl (471 kB)\n",
      "Downloading tokenizers-0.21.1-cp39-abi3-manylinux_2_17_x86_64.manylinux2014_x86_64.whl (3.0 MB)\n",
      "\u001b[2K   \u001b[90m━━━━━━━━━━━━━━━━━━━━━━━━━━━━━━━━━━━━━━━━\u001b[0m \u001b[32m3.0/3.0 MB\u001b[0m \u001b[31m168.9 MB/s\u001b[0m eta \u001b[36m0:00:00\u001b[0m\n",
      "\u001b[?25hDownloading texttable-1.7.0-py2.py3-none-any.whl (10 kB)\n",
      "Downloading xxhash-3.5.0-cp310-cp310-manylinux_2_17_x86_64.manylinux2014_x86_64.whl (194 kB)\n",
      "Installing collected packages: texttable, brotli, xxhash, safetensors, regex, pyzstd, pyppmd, pycryptodomex, pybcj, pyarrow, multivolumefile, inflate64, fsspec, dill, py7zr, multiprocess, huggingface-hub, farasapy, tokenizers, seaborn, transformers, datasets\n",
      "  Attempting uninstall: fsspec\n",
      "    Found existing installation: fsspec 2025.3.2\n",
      "    Uninstalling fsspec-2025.3.2:\n",
      "      Successfully uninstalled fsspec-2025.3.2\n",
      "Successfully installed brotli-1.1.0 datasets-3.5.1 dill-0.3.8 farasapy-0.0.14 fsspec-2025.3.0 huggingface-hub-0.30.2 inflate64-1.0.1 multiprocess-0.70.16 multivolumefile-0.2.3 py7zr-0.22.0 pyarrow-20.0.0 pybcj-1.0.6 pycryptodomex-3.22.0 pyppmd-1.1.1 pyzstd-0.16.2 regex-2024.11.6 safetensors-0.5.3 seaborn-0.13.2 texttable-1.7.0 tokenizers-0.21.1 transformers-4.51.3 xxhash-3.5.0\n",
      "\n",
      "\u001b[1m[\u001b[0m\u001b[34;49mnotice\u001b[0m\u001b[1;39;49m]\u001b[0m\u001b[39;49m A new release of pip is available: \u001b[0m\u001b[31;49m25.0.1\u001b[0m\u001b[39;49m -> \u001b[0m\u001b[32;49m25.1\u001b[0m\n",
      "\u001b[1m[\u001b[0m\u001b[34;49mnotice\u001b[0m\u001b[1;39;49m]\u001b[0m\u001b[39;49m To update, run: \u001b[0m\u001b[32;49mpip install --upgrade pip\u001b[0m\n"
     ]
    }
   ],
   "source": [
    "# Install required packages\n",
    "!pip install transformers datasets scikit-learn pandas matplotlib seaborn numpy torch farasapy py7zr"
   ]
  },
  {
   "cell_type": "markdown",
   "id": "5cc11da7",
   "metadata": {},
   "source": [
    "## 2. Import Libraries"
   ]
  },
  {
   "cell_type": "code",
   "execution_count": 4,
   "id": "92bdf3f3",
   "metadata": {},
   "outputs": [
    {
     "name": "stdout",
     "output_type": "stream",
     "text": [
      "Using device: cuda\n"
     ]
    }
   ],
   "source": [
    "import os\n",
    "import numpy as np\n",
    "import pandas as pd\n",
    "import matplotlib.pyplot as plt\n",
    "import seaborn as sns\n",
    "from sklearn.metrics import classification_report, confusion_matrix, accuracy_score, f1_score\n",
    "from sklearn.preprocessing import LabelEncoder\n",
    "from sklearn.utils.class_weight import compute_class_weight\n",
    "\n",
    "import torch\n",
    "from torch import nn\n",
    "import torch.nn.functional as F\n",
    "from torch.utils.data import Dataset, DataLoader\n",
    "\n",
    "from transformers import (\n",
    "    AutoTokenizer, \n",
    "    AutoModel, \n",
    "    AutoConfig,\n",
    "    get_linear_schedule_with_warmup,\n",
    "    TrainingArguments,\n",
    "    Trainer,\n",
    "    EarlyStoppingCallback\n",
    ")\n",
    "from torch.optim import AdamW\n",
    "import random\n",
    "from tqdm.auto import tqdm\n",
    "\n",
    "# Set random seeds for reproducibility\n",
    "RANDOM_SEED = 42\n",
    "random.seed(RANDOM_SEED)\n",
    "np.random.seed(RANDOM_SEED)\n",
    "torch.manual_seed(RANDOM_SEED)\n",
    "torch.cuda.manual_seed_all(RANDOM_SEED)\n",
    "\n",
    "# Check for GPU availability\n",
    "device = torch.device(\"cuda\" if torch.cuda.is_available() else \"cpu\")\n",
    "print(f\"Using device: {device}\")"
   ]
  },
  {
   "cell_type": "markdown",
   "id": "6c65b59a",
   "metadata": {},
   "source": [
    "## 3. Configuration Parameters\n",
    "\n",
    "Define all hyperparameters and configuration settings in one place for easy modification."
   ]
  },
  {
   "cell_type": "code",
   "execution_count": 5,
   "id": "714d18db",
   "metadata": {},
   "outputs": [],
   "source": [
    "# Model Configuration\n",
    "CONFIG = {\n",
    "    # Model parameters\n",
    "    \"MODEL_NAME\": \"aubmindlab/bert-base-arabertv2\",  # Using AraBERT v2\n",
    "    \"MAX_LENGTH\": 256,\n",
    "    \"BATCH_SIZE\": 16,  # Increase to 32 if memory allows\n",
    "    \"LEARNING_RATE\": 2e-5,\n",
    "    \"NUM_EPOCHS\": 10,  # Can be reduced to 3\n",
    "    \"WEIGHT_DECAY\": 0.01,\n",
    "    \"EVAL_STRATEGY\": \"epoch\",\n",
    "    \"GRAD_CLIP\": 1.0,\n",
    "    \"DROPOUT\": 0.3,  # Can be tuned between 0.1 and 0.3\n",
    "    \"WARMUP_RATIO\": 0.1,\n",
    "    \n",
    "    # Task-specific parameters\n",
    "    \"TASKS\": [\"sarcasm\", \"sentiment\", \"dialect\"],\n",
    "    \"TASK_TYPES\": {\n",
    "        \"sarcasm\": \"binary\",\n",
    "        \"sentiment\": \"multi\",\n",
    "        \"dialect\": \"multi\"\n",
    "    },\n",
    "    \n",
    "    # File paths\n",
    "    \"TRAIN_DATA_PATH\": \"training_data.csv\",\n",
    "    \"TEST_DATA_PATH\": \"testing_data.csv\",\n",
    "    \n",
    "    # Output\n",
    "    \"OUTPUT_DIR\": \"arabert-multitask-output\"\n",
    "}"
   ]
  },
  {
   "cell_type": "markdown",
   "id": "c1c82303",
   "metadata": {},
   "source": [
    "## 4. Load and Explore the Dataset"
   ]
  },
  {
   "cell_type": "code",
   "execution_count": 8,
   "id": "8c21adf8",
   "metadata": {},
   "outputs": [
    {
     "name": "stdout",
     "output_type": "stream",
     "text": [
      "Training data shape: (12548, 4)\n",
      "Testing data shape: (3000, 4)\n"
     ]
    },
    {
     "data": {
      "text/html": [
       "<div>\n",
       "<style scoped>\n",
       "    .dataframe tbody tr th:only-of-type {\n",
       "        vertical-align: middle;\n",
       "    }\n",
       "\n",
       "    .dataframe tbody tr th {\n",
       "        vertical-align: top;\n",
       "    }\n",
       "\n",
       "    .dataframe thead th {\n",
       "        text-align: right;\n",
       "    }\n",
       "</style>\n",
       "<table border=\"1\" class=\"dataframe\">\n",
       "  <thead>\n",
       "    <tr style=\"text-align: right;\">\n",
       "      <th></th>\n",
       "      <th>tweet</th>\n",
       "      <th>sarcasm</th>\n",
       "      <th>sentiment</th>\n",
       "      <th>dialect</th>\n",
       "    </tr>\n",
       "  </thead>\n",
       "  <tbody>\n",
       "    <tr>\n",
       "      <th>0</th>\n",
       "      <td>د محمود_العلايلي أرى أن الفريق أحمد_شفيق رقم م...</td>\n",
       "      <td>False</td>\n",
       "      <td>NEU</td>\n",
       "      <td>msa</td>\n",
       "    </tr>\n",
       "    <tr>\n",
       "      <th>1</th>\n",
       "      <td>مع فيدرر يا آجا والكبار</td>\n",
       "      <td>False</td>\n",
       "      <td>NEU</td>\n",
       "      <td>msa</td>\n",
       "    </tr>\n",
       "    <tr>\n",
       "      <th>2</th>\n",
       "      <td>الداعون لمبدأ الاختلاط بين الجنسين؛ كالداعين ل...</td>\n",
       "      <td>True</td>\n",
       "      <td>NEG</td>\n",
       "      <td>msa</td>\n",
       "    </tr>\n",
       "    <tr>\n",
       "      <th>3</th>\n",
       "      <td>_94 78 5 202 مساكين من الصبح و هوما رايحين راج...</td>\n",
       "      <td>True</td>\n",
       "      <td>NEG</td>\n",
       "      <td>gulf</td>\n",
       "    </tr>\n",
       "    <tr>\n",
       "      <th>4</th>\n",
       "      <td>قل شرق حلب ولا تقل حلب الشرقية وقل غرب حلب ولا...</td>\n",
       "      <td>False</td>\n",
       "      <td>NEU</td>\n",
       "      <td>msa</td>\n",
       "    </tr>\n",
       "  </tbody>\n",
       "</table>\n",
       "</div>"
      ],
      "text/plain": [
       "                                               tweet  sarcasm sentiment  \\\n",
       "0  د محمود_العلايلي أرى أن الفريق أحمد_شفيق رقم م...    False       NEU   \n",
       "1                            مع فيدرر يا آجا والكبار    False       NEU   \n",
       "2  الداعون لمبدأ الاختلاط بين الجنسين؛ كالداعين ل...     True       NEG   \n",
       "3  _94 78 5 202 مساكين من الصبح و هوما رايحين راج...     True       NEG   \n",
       "4  قل شرق حلب ولا تقل حلب الشرقية وقل غرب حلب ولا...    False       NEU   \n",
       "\n",
       "  dialect  \n",
       "0     msa  \n",
       "1     msa  \n",
       "2     msa  \n",
       "3    gulf  \n",
       "4     msa  "
      ]
     },
     "execution_count": 8,
     "metadata": {},
     "output_type": "execute_result"
    }
   ],
   "source": [
    "# Load datasets\n",
    "train_df = pd.read_csv(CONFIG[\"TRAIN_DATA_PATH\"])\n",
    "test_df = pd.read_csv(CONFIG[\"TEST_DATA_PATH\"])\n",
    "\n",
    "print(f\"Training data shape: {train_df.shape}\")\n",
    "print(f\"Testing data shape: {test_df.shape}\")\n",
    "\n",
    "# Display the first few examples\n",
    "train_df.head()"
   ]
  },
  {
   "cell_type": "code",
   "execution_count": 9,
   "id": "6145374f",
   "metadata": {},
   "outputs": [
    {
     "name": "stdout",
     "output_type": "stream",
     "text": [
      "Testing data statistics:\n",
      "\n",
      "Sarcasm distribution:\n",
      "sarcasm\n",
      "False    2179\n",
      "True      821\n",
      "Name: count, dtype: int64\n",
      "\n",
      "Sentiment distribution:\n",
      "sentiment\n",
      "NEG    1677\n",
      "NEU     748\n",
      "POS     575\n",
      "Name: count, dtype: int64\n",
      "\n",
      "Dialect distribution:\n",
      "dialect\n",
      "msa       2323\n",
      "gulf       322\n",
      "egypt      306\n",
      "levant      47\n",
      "magreb       2\n",
      "Name: count, dtype: int64\n"
     ]
    }
   ],
   "source": [
    "# Testing data statistics\n",
    "print(\"Testing data statistics:\")\n",
    "print(\"\\nSarcasm distribution:\")\n",
    "print(test_df[\"sarcasm\"].value_counts())\n",
    "\n",
    "print(\"\\nSentiment distribution:\")\n",
    "print(test_df[\"sentiment\"].value_counts())\n",
    "\n",
    "print(\"\\nDialect distribution:\")\n",
    "print(test_df[\"dialect\"].value_counts())"
   ]
  },
  {
   "cell_type": "code",
   "execution_count": 10,
   "id": "4db4d729",
   "metadata": {},
   "outputs": [
    {
     "data": {
      "image/png": "[encoded data removed]",
      "text/plain": [
       "<Figure size 1500x500 with 3 Axes>"
      ]
     },
     "metadata": {},
     "output_type": "display_data"
    }
   ],
   "source": [
    "# Visualize class distributions in the test set\n",
    "plt.figure(figsize=(15, 5))\n",
    "\n",
    "# Sarcasm\n",
    "plt.subplot(1, 3, 1)\n",
    "sns.countplot(x='sarcasm', data=test_df)\n",
    "plt.title('Sarcasm Distribution (Test)')\n",
    "\n",
    "# Sentiment\n",
    "plt.subplot(1, 3, 2)\n",
    "sns.countplot(x='sentiment', data=test_df)\n",
    "plt.title('Sentiment Distribution (Test)')\n",
    "\n",
    "# Dialect\n",
    "plt.subplot(1, 3, 3)\n",
    "sns.countplot(x='dialect', data=test_df)\n",
    "plt.title('Dialect Distribution (Test)')\n",
    "plt.xticks(rotation=45)\n",
    "plt.tight_layout()\n",
    "plt.show()"
   ]
  },
  {
   "cell_type": "code",
   "execution_count": 11,
   "id": "065cf99f-8c78-4ee5-98b5-e6cb48e457ab",
   "metadata": {},
   "outputs": [
    {
     "name": "stdout",
     "output_type": "stream",
     "text": [
      "Null values in training data:\n",
      "tweet        2\n",
      "sarcasm      0\n",
      "sentiment    0\n",
      "dialect      0\n",
      "dtype: int64\n",
      "\n",
      "Null values in testing data:\n",
      "tweet        1\n",
      "sarcasm      0\n",
      "sentiment    0\n",
      "dialect      0\n",
      "dtype: int64\n",
      "\n",
      "After dropping nulls:\n",
      "Training data shape: (12546, 4)\n",
      "Testing data shape: (2999, 4)\n"
     ]
    }
   ],
   "source": [
    "# View the number of null values in each column\n",
    "print(\"Null values in training data:\")\n",
    "print(train_df.isnull().sum())\n",
    "\n",
    "print(\"\\nNull values in testing data:\")\n",
    "print(test_df.isnull().sum())\n",
    "\n",
    "# Drop rows with any null values\n",
    "train_df.dropna(inplace=True)\n",
    "test_df.dropna(inplace=True)\n",
    "\n",
    "# Confirm the nulls are dropped\n",
    "print(\"\\nAfter dropping nulls:\")\n",
    "print(\"Training data shape:\", train_df.shape)\n",
    "print(\"Testing data shape:\", test_df.shape)"
   ]
  },
  {
   "cell_type": "markdown",
   "id": "efeda579",
   "metadata": {},
   "source": [
    "## 5. Preprocess the Data"
   ]
  },
  {
   "cell_type": "code",
   "execution_count": 12,
   "id": "f89e22b2",
   "metadata": {},
   "outputs": [
    {
     "name": "stdout",
     "output_type": "stream",
     "text": [
      "Sentiment classes: {0: 'NEG', 1: 'NEU', 2: 'POS'}\n",
      "Dialect classes: {0: 'egypt', 1: 'gulf', 2: 'levant', 3: 'magreb', 4: 'msa'}\n"
     ]
    }
   ],
   "source": [
    "# Convert sarcasm to 0/1 for binary classification\n",
    "train_df[\"sarcasm\"] = train_df[\"sarcasm\"].map({False: 0, True: 1})\n",
    "test_df[\"sarcasm\"] = test_df[\"sarcasm\"].map({False: 0, True: 1})\n",
    "\n",
    "# Encode sentiment labels\n",
    "sentiment_encoder = LabelEncoder()\n",
    "train_df[\"sentiment_encoded\"] = sentiment_encoder.fit_transform(train_df[\"sentiment\"])\n",
    "test_df[\"sentiment_encoded\"] = sentiment_encoder.transform(test_df[\"sentiment\"])\n",
    "\n",
    "# Encode dialect labels\n",
    "dialect_encoder = LabelEncoder()\n",
    "train_df[\"dialect_encoded\"] = dialect_encoder.fit_transform(train_df[\"dialect\"])\n",
    "test_df[\"dialect_encoded\"] = dialect_encoder.transform(test_df[\"dialect\"])\n",
    "\n",
    "# Store the label mappings for reference\n",
    "sentiment_classes = sentiment_encoder.classes_\n",
    "dialect_classes = dialect_encoder.classes_\n",
    "\n",
    "print(\"Sentiment classes:\", dict(zip(range(len(sentiment_classes)), sentiment_classes)))\n",
    "print(\"Dialect classes:\", dict(zip(range(len(dialect_classes)), dialect_classes)))"
   ]
  },
  {
   "cell_type": "code",
   "execution_count": 13,
   "id": "611273a9",
   "metadata": {},
   "outputs": [
    {
     "name": "stdout",
     "output_type": "stream",
     "text": [
      "Sarcasm class weights: {0: 0.604393486848444, 1: 2.894785417628057}\n",
      "Sentiment class weights: {0: 0.9051948051948052, 1: 0.727810650887574, 2: 1.918348623853211}\n",
      "Dialect class weights: {0: 0.938018691588785, 1: 3.896273291925466, 2: 4.0211538461538465, 3: 58.353488372093025, 4: 0.29313084112149534}\n"
     ]
    }
   ],
   "source": [
    "# Calculate class weights for imbalanced classes\n",
    "sarcasm_weights = compute_class_weight(\n",
    "    class_weight=\"balanced\",\n",
    "    classes=np.unique(train_df[\"sarcasm\"]),\n",
    "    y=train_df[\"sarcasm\"]\n",
    ")\n",
    "\n",
    "sentiment_weights = compute_class_weight(\n",
    "    class_weight=\"balanced\",\n",
    "    classes=np.unique(train_df[\"sentiment_encoded\"]),\n",
    "    y=train_df[\"sentiment_encoded\"]\n",
    ")\n",
    "\n",
    "dialect_weights = compute_class_weight(\n",
    "    class_weight=\"balanced\",\n",
    "    classes=np.unique(train_df[\"dialect_encoded\"]),\n",
    "    y=train_df[\"dialect_encoded\"]\n",
    ")\n",
    "\n",
    "print(\"Sarcasm class weights:\", dict(zip(np.unique(train_df[\"sarcasm\"]), sarcasm_weights)))\n",
    "print(\"Sentiment class weights:\", dict(zip(np.unique(train_df[\"sentiment_encoded\"]), sentiment_weights)))\n",
    "print(\"Dialect class weights:\", dict(zip(np.unique(train_df[\"dialect_encoded\"]), dialect_weights)))"
   ]
  },
  {
   "cell_type": "markdown",
   "id": "c2fb7243",
   "metadata": {},
   "source": [
    "## 6. AraBERT Preprocessing and Tokenization\n",
    "\n",
    "AraBERT includes a specialized preprocessing pipeline for Arabic text. We'll implement that here."
   ]
  },
  {
   "cell_type": "code",
   "execution_count": 14,
   "id": "6fd016ac",
   "metadata": {},
   "outputs": [],
   "source": [
    "def arabert_preprocess(text):\n",
    "    \"\"\"\n",
    "    Preprocess text for AraBERT following the recommended steps.\n",
    "    \"\"\"\n",
    "    # Remove diacritics (harakaat)\n",
    "    text = text.strip()\n",
    "    # Replace some Arabic punctuations with English punctuations\n",
    "    text = text.replace('،', ',')\n",
    "    text = text.replace('؛', ';')\n",
    "    text = text.replace('؟', '?')\n",
    "    text = text.replace('»', '\"')\n",
    "    text = text.replace('«', '\"')\n",
    "    text = text.replace('\\u2018', \"'\")\n",
    "    text = text.replace('\\u2019', \"'\")\n",
    "    # Normalize Alef, Yah, and Tah marbuta\n",
    "    text = text.replace('أ', 'ا')\n",
    "    text = text.replace('إ', 'ا')\n",
    "    text = text.replace('آ', 'ا')\n",
    "    text = text.replace('ي', 'ى')\n",
    "    text = text.replace('ة', 'ه')\n",
    "    \n",
    "    return text"
   ]
  },
  {
   "cell_type": "code",
   "execution_count": 15,
   "id": "092b9ae9",
   "metadata": {},
   "outputs": [
    {
     "name": "stdout",
     "output_type": "stream",
     "text": [
      "Examples of AraBERT Preprocessing:\n"
     ]
    },
    {
     "data": {
      "text/html": [
       "<div>\n",
       "<style scoped>\n",
       "    .dataframe tbody tr th:only-of-type {\n",
       "        vertical-align: middle;\n",
       "    }\n",
       "\n",
       "    .dataframe tbody tr th {\n",
       "        vertical-align: top;\n",
       "    }\n",
       "\n",
       "    .dataframe thead th {\n",
       "        text-align: right;\n",
       "    }\n",
       "</style>\n",
       "<table border=\"1\" class=\"dataframe\">\n",
       "  <thead>\n",
       "    <tr style=\"text-align: right;\">\n",
       "      <th></th>\n",
       "      <th>Original</th>\n",
       "      <th>Preprocessed</th>\n",
       "    </tr>\n",
       "  </thead>\n",
       "  <tbody>\n",
       "    <tr>\n",
       "      <th>0</th>\n",
       "      <td>د محمود_العلايلي أرى أن الفريق أحمد_شفيق رقم م...</td>\n",
       "      <td>د محمود_العلاىلى ارى ان الفرىق احمد_شفىق رقم م...</td>\n",
       "    </tr>\n",
       "    <tr>\n",
       "      <th>1</th>\n",
       "      <td>مع فيدرر يا آجا والكبار</td>\n",
       "      <td>مع فىدرر ىا اجا والكبار</td>\n",
       "    </tr>\n",
       "    <tr>\n",
       "      <th>2</th>\n",
       "      <td>الداعون لمبدأ الاختلاط بين الجنسين؛ كالداعين ل...</td>\n",
       "      <td>الداعون لمبدا الاختلاط بىن الجنسىن; كالداعىن ل...</td>\n",
       "    </tr>\n",
       "  </tbody>\n",
       "</table>\n",
       "</div>"
      ],
      "text/plain": [
       "                                            Original  \\\n",
       "0  د محمود_العلايلي أرى أن الفريق أحمد_شفيق رقم م...   \n",
       "1                            مع فيدرر يا آجا والكبار   \n",
       "2  الداعون لمبدأ الاختلاط بين الجنسين؛ كالداعين ل...   \n",
       "\n",
       "                                        Preprocessed  \n",
       "0  د محمود_العلاىلى ارى ان الفرىق احمد_شفىق رقم م...  \n",
       "1                            مع فىدرر ىا اجا والكبار  \n",
       "2  الداعون لمبدا الاختلاط بىن الجنسىن; كالداعىن ل...  "
      ]
     },
     "execution_count": 15,
     "metadata": {},
     "output_type": "execute_result"
    }
   ],
   "source": [
    "# Preprocess the texts for AraBERT\n",
    "train_df[\"preprocessed_tweet\"] = train_df[\"tweet\"].apply(arabert_preprocess)\n",
    "test_df[\"preprocessed_tweet\"] = test_df[\"tweet\"].apply(arabert_preprocess)\n",
    "\n",
    "# Display an example of the preprocessing\n",
    "examples = pd.DataFrame({\n",
    "    'Original': train_df['tweet'].head(3),\n",
    "    'Preprocessed': train_df['preprocessed_tweet'].head(3)\n",
    "})\n",
    "\n",
    "print(\"Examples of AraBERT Preprocessing:\")\n",
    "examples"
   ]
  },
  {
   "cell_type": "code",
   "execution_count": 16,
   "id": "db9da704",
   "metadata": {},
   "outputs": [
    {
     "data": {
      "application/vnd.jupyter.widget-view+json": {
       "model_id": "5d62627d67424cbd8f978badaf924c26",
       "version_major": 2,
       "version_minor": 0
      },
      "text/plain": [
       "tokenizer_config.json:   0%|          | 0.00/611 [00:00<?, ?B/s]"
      ]
     },
     "metadata": {},
     "output_type": "display_data"
    },
    {
     "data": {
      "application/vnd.jupyter.widget-view+json": {
       "model_id": "7baa0bf08e5947859be9861522564a23",
       "version_major": 2,
       "version_minor": 0
      },
      "text/plain": [
       "config.json:   0%|          | 0.00/384 [00:00<?, ?B/s]"
      ]
     },
     "metadata": {},
     "output_type": "display_data"
    },
    {
     "data": {
      "application/vnd.jupyter.widget-view+json": {
       "model_id": "fafb505408cc4075b8e6ab8f132e4874",
       "version_major": 2,
       "version_minor": 0
      },
      "text/plain": [
       "vocab.txt:   0%|          | 0.00/720k [00:00<?, ?B/s]"
      ]
     },
     "metadata": {},
     "output_type": "display_data"
    },
    {
     "data": {
      "application/vnd.jupyter.widget-view+json": {
       "model_id": "3bfbe4bf4fe542c79f4c78682846e87e",
       "version_major": 2,
       "version_minor": 0
      },
      "text/plain": [
       "tokenizer.json:   0%|          | 0.00/2.31M [00:00<?, ?B/s]"
      ]
     },
     "metadata": {},
     "output_type": "display_data"
    },
    {
     "data": {
      "application/vnd.jupyter.widget-view+json": {
       "model_id": "4ab206eec7534412a07c8b233af7f0b8",
       "version_major": 2,
       "version_minor": 0
      },
      "text/plain": [
       "special_tokens_map.json:   0%|          | 0.00/112 [00:00<?, ?B/s]"
      ]
     },
     "metadata": {},
     "output_type": "display_data"
    }
   ],
   "source": [
    "# Load the AraBERT tokenizer\n",
    "tokenizer = AutoTokenizer.from_pretrained(CONFIG[\"MODEL_NAME\"])\n",
    "\n",
    "# Create a PyTorch Dataset for multi-task learning\n",
    "class ArabicMultiTaskDataset(Dataset):\n",
    "    def __init__(self, texts, sarcasm_labels, sentiment_labels, dialect_labels, tokenizer, max_length):\n",
    "        self.texts = texts\n",
    "        self.sarcasm_labels = sarcasm_labels\n",
    "        self.sentiment_labels = sentiment_labels\n",
    "        self.dialect_labels = dialect_labels\n",
    "        self.tokenizer = tokenizer\n",
    "        self.max_length = max_length\n",
    "        \n",
    "    def __len__(self):\n",
    "        return len(self.texts)\n",
    "    \n",
    "    def __getitem__(self, idx):\n",
    "        text = self.texts[idx]\n",
    "        sarcasm_label = self.sarcasm_labels[idx]\n",
    "        sentiment_label = self.sentiment_labels[idx]\n",
    "        dialect_label = self.dialect_labels[idx]\n",
    "        \n",
    "        encoding = self.tokenizer(\n",
    "            text, \n",
    "            truncation=True,\n",
    "            max_length=self.max_length,\n",
    "            padding=\"max_length\",\n",
    "            return_tensors=\"pt\"\n",
    "        )\n",
    "        \n",
    "        # Remove the batch dimension\n",
    "        encoding = {k: v.squeeze(0) for k, v in encoding.items()}\n",
    "        \n",
    "        return {\n",
    "            'input_ids': encoding['input_ids'],\n",
    "            'attention_mask': encoding['attention_mask'],\n",
    "            'sarcasm_label': torch.tensor(sarcasm_label, dtype=torch.long),\n",
    "            'sentiment_label': torch.tensor(sentiment_label, dtype=torch.long),\n",
    "            'dialect_label': torch.tensor(dialect_label, dtype=torch.long)\n",
    "        }"
   ]
  },
  {
   "cell_type": "code",
   "execution_count": 17,
   "id": "85d12bf6",
   "metadata": {},
   "outputs": [],
   "source": [
    "# Create training and testing datasets using preprocessed tweets\n",
    "train_dataset = ArabicMultiTaskDataset(\n",
    "    texts=train_df[\"preprocessed_tweet\"].tolist(),\n",
    "    sarcasm_labels=train_df[\"sarcasm\"].tolist(),\n",
    "    sentiment_labels=train_df[\"sentiment_encoded\"].tolist(),\n",
    "    dialect_labels=train_df[\"dialect_encoded\"].tolist(),\n",
    "    tokenizer=tokenizer,\n",
    "    max_length=CONFIG[\"MAX_LENGTH\"]\n",
    ")\n",
    "\n",
    "test_dataset = ArabicMultiTaskDataset(\n",
    "    texts=test_df[\"preprocessed_tweet\"].tolist(),\n",
    "    sarcasm_labels=test_df[\"sarcasm\"].tolist(),\n",
    "    sentiment_labels=test_df[\"sentiment_encoded\"].tolist(),\n",
    "    dialect_labels=test_df[\"dialect_encoded\"].tolist(),\n",
    "    tokenizer=tokenizer,\n",
    "    max_length=CONFIG[\"MAX_LENGTH\"]\n",
    ")\n",
    "\n",
    "# Create data loaders\n",
    "train_loader = DataLoader(\n",
    "    train_dataset,\n",
    "    batch_size=CONFIG[\"BATCH_SIZE\"],\n",
    "    shuffle=True\n",
    ")\n",
    "\n",
    "test_loader = DataLoader(\n",
    "    test_dataset,\n",
    "    batch_size=CONFIG[\"BATCH_SIZE\"],\n",
    "    shuffle=False\n",
    ")"
   ]
  },
  {
   "cell_type": "markdown",
   "id": "79d73316",
   "metadata": {},
   "source": [
    "## 7. Define Multi-Task Model Architecture\n",
    "\n",
    "We'll create a model with one shared encoder (AraBERT) and three separate classification heads."
   ]
  },
  {
   "cell_type": "code",
   "execution_count": 18,
   "id": "dfee3564",
   "metadata": {},
   "outputs": [],
   "source": [
    "class AraBERTMultiTaskModel(nn.Module):\n",
    "    def __init__(self, model_name, num_sentiment_labels, num_dialect_labels, dropout=0.3):\n",
    "        super(AraBERTMultiTaskModel, self).__init__()\n",
    "        \n",
    "        # Load pre-trained AraBERT model\n",
    "        self.encoder = AutoModel.from_pretrained(model_name)\n",
    "        self.hidden_size = self.encoder.config.hidden_size\n",
    "        \n",
    "        # Dropout layer\n",
    "        self.dropout = nn.Dropout(dropout)\n",
    "        \n",
    "        # Task-specific classification heads\n",
    "        self.sarcasm_classifier = nn.Linear(self.hidden_size, 2)  # Binary classification\n",
    "        self.sentiment_classifier = nn.Linear(self.hidden_size, num_sentiment_labels)\n",
    "        self.dialect_classifier = nn.Linear(self.hidden_size, num_dialect_labels)\n",
    "        \n",
    "    def forward(self, input_ids, attention_mask):\n",
    "        # Get encoder output\n",
    "        outputs = self.encoder(\n",
    "            input_ids=input_ids,\n",
    "            attention_mask=attention_mask\n",
    "        )\n",
    "        \n",
    "        # Get the [CLS] token embedding (the first token)\n",
    "        pooled_output = outputs.last_hidden_state[:, 0, :]\n",
    "        pooled_output = self.dropout(pooled_output)\n",
    "        \n",
    "        # Task-specific predictions\n",
    "        sarcasm_logits = self.sarcasm_classifier(pooled_output)\n",
    "        sentiment_logits = self.sentiment_classifier(pooled_output)\n",
    "        dialect_logits = self.dialect_classifier(pooled_output)\n",
    "        \n",
    "        return sarcasm_logits, sentiment_logits, dialect_logits"
   ]
  },
  {
   "cell_type": "markdown",
   "id": "524d3014",
   "metadata": {},
   "source": [
    "## 8. Training Function with Multi-Task Learning"
   ]
  },
  {
   "cell_type": "code",
   "execution_count": 19,
   "id": "264cc00a",
   "metadata": {},
   "outputs": [],
   "source": [
    "def train_multi_task_model(model, train_loader, test_loader, config, device):\n",
    "    # Set up optimizer with weight decay\n",
    "    optimizer = AdamW(\n",
    "        model.parameters(),\n",
    "        lr=config[\"LEARNING_RATE\"],\n",
    "        weight_decay=config[\"WEIGHT_DECAY\"]\n",
    "    )\n",
    "    \n",
    "    # Calculate total training steps for learning rate scheduler\n",
    "    total_steps = len(train_loader) * config[\"NUM_EPOCHS\"]\n",
    "    warmup_steps = int(total_steps * config[\"WARMUP_RATIO\"])\n",
    "    \n",
    "    # Set up scheduler with linear warmup\n",
    "    scheduler = get_linear_schedule_with_warmup(\n",
    "        optimizer,\n",
    "        num_warmup_steps=warmup_steps,\n",
    "        num_training_steps=total_steps\n",
    "    )\n",
    "    \n",
    "    # Convert class weights to tensors and move to device\n",
    "    sarcasm_weights_tensor = torch.tensor(sarcasm_weights, dtype=torch.float).to(device)\n",
    "    sentiment_weights_tensor = torch.tensor(sentiment_weights, dtype=torch.float).to(device)\n",
    "    dialect_weights_tensor = torch.tensor(dialect_weights, dtype=torch.float).to(device)\n",
    "    \n",
    "    # Define loss functions with class weights\n",
    "    sarcasm_loss_fn = nn.CrossEntropyLoss(weight=sarcasm_weights_tensor)\n",
    "    sentiment_loss_fn = nn.CrossEntropyLoss(weight=sentiment_weights_tensor)\n",
    "    dialect_loss_fn = nn.CrossEntropyLoss(weight=dialect_weights_tensor)\n",
    "    \n",
    "    # Training history\n",
    "    history = {\n",
    "        'train_loss': [],\n",
    "        'sarcasm_f1': [],\n",
    "        'sentiment_f1': [],\n",
    "        'dialect_f1': []\n",
    "    }\n",
    "    \n",
    "    # Training loop\n",
    "    for epoch in range(config[\"NUM_EPOCHS\"]):\n",
    "        model.train()\n",
    "        total_loss = 0\n",
    "        \n",
    "        train_progress_bar = tqdm(train_loader, desc=f\"Epoch {epoch+1}/{config['NUM_EPOCHS']}\")\n",
    "        \n",
    "        for batch in train_progress_bar:\n",
    "            # Move batch to device\n",
    "            input_ids = batch['input_ids'].to(device)\n",
    "            attention_mask = batch['attention_mask'].to(device)\n",
    "            sarcasm_labels = batch['sarcasm_label'].to(device)\n",
    "            sentiment_labels = batch['sentiment_label'].to(device)\n",
    "            dialect_labels = batch['dialect_label'].to(device)\n",
    "            \n",
    "            # Clear gradients\n",
    "            optimizer.zero_grad()\n",
    "            \n",
    "            # Forward pass\n",
    "            sarcasm_logits, sentiment_logits, dialect_logits = model(\n",
    "                input_ids=input_ids,\n",
    "                attention_mask=attention_mask\n",
    "            )\n",
    "            \n",
    "            # Calculate losses for each task\n",
    "            sarcasm_loss = sarcasm_loss_fn(sarcasm_logits, sarcasm_labels)\n",
    "            sentiment_loss = sentiment_loss_fn(sentiment_logits, sentiment_labels)\n",
    "            dialect_loss = dialect_loss_fn(dialect_logits, dialect_labels)\n",
    "            \n",
    "            # Equal task weighting for AraBERT\n",
    "            loss = sarcasm_loss + sentiment_loss + dialect_loss\n",
    "            \n",
    "            # Backward pass\n",
    "            loss.backward()\n",
    "            \n",
    "            # Clip gradients to prevent exploding gradients\n",
    "            torch.nn.utils.clip_grad_norm_(model.parameters(), config[\"GRAD_CLIP\"])\n",
    "            \n",
    "            # Update parameters\n",
    "            optimizer.step()\n",
    "            \n",
    "            # Update learning rate\n",
    "            scheduler.step()\n",
    "            \n",
    "            # Update total loss\n",
    "            total_loss += loss.item()\n",
    "            \n",
    "            # Update progress bar\n",
    "            train_progress_bar.set_postfix({\n",
    "                'loss': loss.item(),\n",
    "                'sarcasm_loss': sarcasm_loss.item(),\n",
    "                'sentiment_loss': sentiment_loss.item(),\n",
    "                'dialect_loss': dialect_loss.item()\n",
    "            })\n",
    "        \n",
    "        # Calculate average loss per epoch\n",
    "        avg_train_loss = total_loss / len(train_loader)\n",
    "        history['train_loss'].append(avg_train_loss)\n",
    "        \n",
    "        print(f\"\\nEpoch {epoch+1}/{config['NUM_EPOCHS']}, Training Loss: {avg_train_loss:.4f}\")\n",
    "        \n",
    "        # Evaluate on test set\n",
    "        sarcasm_f1, sentiment_f1, dialect_f1 = evaluate_model(model, test_loader, device)\n",
    "        \n",
    "        # Store metrics\n",
    "        history['sarcasm_f1'].append(sarcasm_f1)\n",
    "        history['sentiment_f1'].append(sentiment_f1)\n",
    "        history['dialect_f1'].append(dialect_f1)\n",
    "        \n",
    "        print(f\"Sarcasm F1: {sarcasm_f1:.4f}, Sentiment F1: {sentiment_f1:.4f}, Dialect F1: {dialect_f1:.4f}\\n\")\n",
    "    \n",
    "    return model, history"
   ]
  },
  {
   "cell_type": "markdown",
   "id": "aae1a7cf",
   "metadata": {},
   "source": [
    "## 9. Evaluation Function"
   ]
  },
  {
   "cell_type": "code",
   "execution_count": 20,
   "id": "a6ce4d5f",
   "metadata": {},
   "outputs": [],
   "source": [
    "def evaluate_model(model, data_loader, device):\n",
    "    model.eval()\n",
    "    \n",
    "    sarcasm_preds = []\n",
    "    sarcasm_true = []\n",
    "    sentiment_preds = []\n",
    "    sentiment_true = []\n",
    "    dialect_preds = []\n",
    "    dialect_true = []\n",
    "    \n",
    "    with torch.no_grad():\n",
    "        for batch in tqdm(data_loader, desc=\"Evaluating\"):\n",
    "            # Move batch to device\n",
    "            input_ids = batch['input_ids'].to(device)\n",
    "            attention_mask = batch['attention_mask'].to(device)\n",
    "            sarcasm_labels = batch['sarcasm_label'].cpu().numpy()\n",
    "            sentiment_labels = batch['sentiment_label'].cpu().numpy()\n",
    "            dialect_labels = batch['dialect_label'].cpu().numpy()\n",
    "            \n",
    "            # Forward pass\n",
    "            sarcasm_logits, sentiment_logits, dialect_logits = model(\n",
    "                input_ids=input_ids,\n",
    "                attention_mask=attention_mask\n",
    "            )\n",
    "            \n",
    "            # Get predictions\n",
    "            sarcasm_batch_preds = torch.argmax(sarcasm_logits, dim=1).cpu().numpy()\n",
    "            sentiment_batch_preds = torch.argmax(sentiment_logits, dim=1).cpu().numpy()\n",
    "            dialect_batch_preds = torch.argmax(dialect_logits, dim=1).cpu().numpy()\n",
    "            \n",
    "            # Store predictions and true labels\n",
    "            sarcasm_preds.extend(sarcasm_batch_preds)\n",
    "            sarcasm_true.extend(sarcasm_labels)\n",
    "            sentiment_preds.extend(sentiment_batch_preds)\n",
    "            sentiment_true.extend(sentiment_labels)\n",
    "            dialect_preds.extend(dialect_batch_preds)\n",
    "            dialect_true.extend(dialect_labels)\n",
    "    \n",
    "    # Calculate F1 scores\n",
    "    sarcasm_f1 = f1_score(sarcasm_true, sarcasm_preds, average='weighted')\n",
    "    sentiment_f1 = f1_score(sentiment_true, sentiment_preds, average='weighted')\n",
    "    dialect_f1 = f1_score(dialect_true, dialect_preds, average='weighted')\n",
    "    \n",
    "    return sarcasm_f1, sentiment_f1, dialect_f1"
   ]
  },
  {
   "cell_type": "markdown",
   "id": "c43d25c8",
   "metadata": {},
   "source": [
    "## 10. Detailed Evaluation and Visualization"
   ]
  },
  {
   "cell_type": "code",
   "execution_count": 21,
   "id": "1f815b8f",
   "metadata": {},
   "outputs": [],
   "source": [
    "def detailed_evaluation(model, data_loader, device, sentiment_encoder, dialect_encoder):\n",
    "    model.eval()\n",
    "    \n",
    "    # Predictions and true labels\n",
    "    sarcasm_preds = []\n",
    "    sarcasm_true = []\n",
    "    sentiment_preds = []\n",
    "    sentiment_true = []\n",
    "    dialect_preds = []\n",
    "    dialect_true = []\n",
    "    \n",
    "    with torch.no_grad():\n",
    "        for batch in tqdm(data_loader, desc=\"Detailed Evaluation\"):\n",
    "            # Move batch to device\n",
    "            input_ids = batch['input_ids'].to(device)\n",
    "            attention_mask = batch['attention_mask'].to(device)\n",
    "            sarcasm_labels = batch['sarcasm_label'].cpu().numpy()\n",
    "            sentiment_labels = batch['sentiment_label'].cpu().numpy()\n",
    "            dialect_labels = batch['dialect_label'].cpu().numpy()\n",
    "            \n",
    "            # Forward pass\n",
    "            sarcasm_logits, sentiment_logits, dialect_logits = model(\n",
    "                input_ids=input_ids,\n",
    "                attention_mask=attention_mask\n",
    "            )\n",
    "            \n",
    "            # Get predictions\n",
    "            sarcasm_batch_preds = torch.argmax(sarcasm_logits, dim=1).cpu().numpy()\n",
    "            sentiment_batch_preds = torch.argmax(sentiment_logits, dim=1).cpu().numpy()\n",
    "            dialect_batch_preds = torch.argmax(dialect_logits, dim=1).cpu().numpy()\n",
    "            \n",
    "            # Store predictions and true labels\n",
    "            sarcasm_preds.extend(sarcasm_batch_preds)\n",
    "            sarcasm_true.extend(sarcasm_labels)\n",
    "            sentiment_preds.extend(sentiment_batch_preds)\n",
    "            sentiment_true.extend(sentiment_labels)\n",
    "            dialect_preds.extend(dialect_batch_preds)\n",
    "            dialect_true.extend(dialect_labels)\n",
    "    \n",
    "    # Print classification reports\n",
    "    print(\"\\nSarcasm Classification Report:\")\n",
    "    print(classification_report(\n",
    "        sarcasm_true, sarcasm_preds, \n",
    "        target_names=[\"Not Sarcastic\", \"Sarcastic\"]\n",
    "    ))\n",
    "    \n",
    "    print(\"\\nSentiment Classification Report:\")\n",
    "    print(classification_report(\n",
    "        sentiment_true, sentiment_preds, \n",
    "        target_names=sentiment_encoder.classes_\n",
    "    ))\n",
    "    \n",
    "    print(\"\\nDialect Classification Report:\")\n",
    "    print(classification_report(\n",
    "        dialect_true, dialect_preds, \n",
    "        target_names=dialect_encoder.classes_\n",
    "    ))\n",
    "    \n",
    "    # Draw confusion matrices\n",
    "    plt.figure(figsize=(20, 5))\n",
    "    \n",
    "    # Sarcasm confusion matrix\n",
    "    plt.subplot(1, 3, 1)\n",
    "    sarcasm_cm = confusion_matrix(sarcasm_true, sarcasm_preds)\n",
    "    sns.heatmap(sarcasm_cm, annot=True, fmt=\"d\", cmap=\"Blues\", xticklabels=[\"Not Sarcastic\", \"Sarcastic\"], yticklabels=[\"Not Sarcastic\", \"Sarcastic\"])\n",
    "    plt.title(\"Sarcasm Confusion Matrix\")\n",
    "    plt.xlabel(\"Predicted\")\n",
    "    plt.ylabel(\"True\")\n",
    "    \n",
    "    # Sentiment confusion matrix\n",
    "    plt.subplot(1, 3, 2)\n",
    "    sentiment_cm = confusion_matrix(sentiment_true, sentiment_preds)\n",
    "    sns.heatmap(sentiment_cm, annot=True, fmt=\"d\", cmap=\"Blues\", xticklabels=sentiment_encoder.classes_, yticklabels=sentiment_encoder.classes_)\n",
    "    plt.title(\"Sentiment Confusion Matrix\")\n",
    "    plt.xlabel(\"Predicted\")\n",
    "    plt.ylabel(\"True\")\n",
    "    \n",
    "    # Dialect confusion matrix\n",
    "    plt.subplot(1, 3, 3)\n",
    "    dialect_cm = confusion_matrix(dialect_true, dialect_preds)\n",
    "    sns.heatmap(dialect_cm, annot=True, fmt=\"d\", cmap=\"Blues\", xticklabels=dialect_encoder.classes_, yticklabels=dialect_encoder.classes_)\n",
    "    plt.title(\"Dialect Confusion Matrix\")\n",
    "    plt.xlabel(\"Predicted\")\n",
    "    plt.ylabel(\"True\")\n",
    "    \n",
    "    plt.tight_layout()\n",
    "    plt.show()\n",
    "    \n",
    "    return {\n",
    "        'sarcasm_f1': f1_score(sarcasm_true, sarcasm_preds, average='weighted'),\n",
    "        'sentiment_f1': f1_score(sentiment_true, sentiment_preds, average='weighted'),\n",
    "        'dialect_f1': f1_score(dialect_true, dialect_preds, average='weighted'),\n",
    "        'sarcasm_accuracy': accuracy_score(sarcasm_true, sarcasm_preds),\n",
    "        'sentiment_accuracy': accuracy_score(sentiment_true, sentiment_preds),\n",
    "        'dialect_accuracy': accuracy_score(dialect_true, dialect_preds)\n",
    "    }"
   ]
  },
  {
   "cell_type": "markdown",
   "id": "ce87996d",
   "metadata": {},
   "source": [
    "## 11. Model Training"
   ]
  },
  {
   "cell_type": "code",
   "execution_count": 22,
   "id": "e57d3751",
   "metadata": {},
   "outputs": [
    {
     "data": {
      "application/vnd.jupyter.widget-view+json": {
       "model_id": "2c8bcc308eda498fb103902ade43c804",
       "version_major": 2,
       "version_minor": 0
      },
      "text/plain": [
       "model.safetensors:   0%|          | 0.00/543M [00:00<?, ?B/s]"
      ]
     },
     "metadata": {},
     "output_type": "display_data"
    },
    {
     "name": "stdout",
     "output_type": "stream",
     "text": [
      "Trainable parameters: 135,201,034\n"
     ]
    }
   ],
   "source": [
    "# Initialize the model\n",
    "model = AraBERTMultiTaskModel(\n",
    "    model_name=CONFIG[\"MODEL_NAME\"],\n",
    "    num_sentiment_labels=len(sentiment_classes),\n",
    "    num_dialect_labels=len(dialect_classes),\n",
    "    dropout=CONFIG[\"DROPOUT\"]\n",
    ")\n",
    "\n",
    "# Move model to device\n",
    "model = model.to(device)\n",
    "\n",
    "# Count trainable parameters\n",
    "trainable_params = sum(p.numel() for p in model.parameters() if p.requires_grad)\n",
    "print(f\"Trainable parameters: {trainable_params:,}\")"
   ]
  },
  {
   "cell_type": "code",
   "execution_count": 23,
   "id": "55107379",
   "metadata": {},
   "outputs": [
    {
     "data": {
      "application/vnd.jupyter.widget-view+json": {
       "model_id": "bd9d0a951721412fa09a229926f49aa0",
       "version_major": 2,
       "version_minor": 0
      },
      "text/plain": [
       "Epoch 1/5:   0%|          | 0/785 [00:00<?, ?it/s]"
      ]
     },
     "metadata": {},
     "output_type": "display_data"
    },
    {
     "name": "stdout",
     "output_type": "stream",
     "text": [
      "\n",
      "Epoch 1/5, Training Loss: 2.8120\n"
     ]
    },
    {
     "data": {
      "application/vnd.jupyter.widget-view+json": {
       "model_id": "91cbfdb398d7454d839b65e11d85fbbf",
       "version_major": 2,
       "version_minor": 0
      },
      "text/plain": [
       "Evaluating:   0%|          | 0/188 [00:00<?, ?it/s]"
      ]
     },
     "metadata": {},
     "output_type": "display_data"
    },
    {
     "name": "stdout",
     "output_type": "stream",
     "text": [
      "Sarcasm F1: 0.6745, Sentiment F1: 0.6108, Dialect F1: 0.4864\n",
      "\n"
     ]
    },
    {
     "data": {
      "application/vnd.jupyter.widget-view+json": {
       "model_id": "1bb8358368274b5ba3b6d560052fd7b3",
       "version_major": 2,
       "version_minor": 0
      },
      "text/plain": [
       "Epoch 2/5:   0%|          | 0/785 [00:00<?, ?it/s]"
      ]
     },
     "metadata": {},
     "output_type": "display_data"
    },
    {
     "name": "stdout",
     "output_type": "stream",
     "text": [
      "\n",
      "Epoch 2/5, Training Loss: 2.2470\n"
     ]
    },
    {
     "data": {
      "application/vnd.jupyter.widget-view+json": {
       "model_id": "92a25d7648ea4ac5aa5c4549a32cc491",
       "version_major": 2,
       "version_minor": 0
      },
      "text/plain": [
       "Evaluating:   0%|          | 0/188 [00:00<?, ?it/s]"
      ]
     },
     "metadata": {},
     "output_type": "display_data"
    },
    {
     "name": "stdout",
     "output_type": "stream",
     "text": [
      "Sarcasm F1: 0.7272, Sentiment F1: 0.6064, Dialect F1: 0.5848\n",
      "\n"
     ]
    },
    {
     "data": {
      "application/vnd.jupyter.widget-view+json": {
       "model_id": "b1177971658b43a2b68041192b86addb",
       "version_major": 2,
       "version_minor": 0
      },
      "text/plain": [
       "Epoch 3/5:   0%|          | 0/785 [00:00<?, ?it/s]"
      ]
     },
     "metadata": {},
     "output_type": "display_data"
    },
    {
     "name": "stdout",
     "output_type": "stream",
     "text": [
      "\n",
      "Epoch 3/5, Training Loss: 1.8792\n"
     ]
    },
    {
     "data": {
      "application/vnd.jupyter.widget-view+json": {
       "model_id": "d8a9510d2b45491c8dabb4b9631c4532",
       "version_major": 2,
       "version_minor": 0
      },
      "text/plain": [
       "Evaluating:   0%|          | 0/188 [00:00<?, ?it/s]"
      ]
     },
     "metadata": {},
     "output_type": "display_data"
    },
    {
     "name": "stdout",
     "output_type": "stream",
     "text": [
      "Sarcasm F1: 0.7394, Sentiment F1: 0.6297, Dialect F1: 0.6155\n",
      "\n"
     ]
    },
    {
     "data": {
      "application/vnd.jupyter.widget-view+json": {
       "model_id": "b641896a027e44b183c232a428505e26",
       "version_major": 2,
       "version_minor": 0
      },
      "text/plain": [
       "Epoch 4/5:   0%|          | 0/785 [00:00<?, ?it/s]"
      ]
     },
     "metadata": {},
     "output_type": "display_data"
    },
    {
     "name": "stdout",
     "output_type": "stream",
     "text": [
      "\n",
      "Epoch 4/5, Training Loss: 1.6188\n"
     ]
    },
    {
     "data": {
      "application/vnd.jupyter.widget-view+json": {
       "model_id": "c766e662a98c4fadbc39e24f45364709",
       "version_major": 2,
       "version_minor": 0
      },
      "text/plain": [
       "Evaluating:   0%|          | 0/188 [00:00<?, ?it/s]"
      ]
     },
     "metadata": {},
     "output_type": "display_data"
    },
    {
     "name": "stdout",
     "output_type": "stream",
     "text": [
      "Sarcasm F1: 0.7465, Sentiment F1: 0.6274, Dialect F1: 0.6112\n",
      "\n"
     ]
    },
    {
     "data": {
      "application/vnd.jupyter.widget-view+json": {
       "model_id": "0901e5dcb98b470d9ef7740766a25033",
       "version_major": 2,
       "version_minor": 0
      },
      "text/plain": [
       "Epoch 5/5:   0%|          | 0/785 [00:00<?, ?it/s]"
      ]
     },
     "metadata": {},
     "output_type": "display_data"
    },
    {
     "name": "stdout",
     "output_type": "stream",
     "text": [
      "\n",
      "Epoch 5/5, Training Loss: 1.4110\n"
     ]
    },
    {
     "data": {
      "application/vnd.jupyter.widget-view+json": {
       "model_id": "8e2ce8b428eb430d8c9b388689684152",
       "version_major": 2,
       "version_minor": 0
      },
      "text/plain": [
       "Evaluating:   0%|          | 0/188 [00:00<?, ?it/s]"
      ]
     },
     "metadata": {},
     "output_type": "display_data"
    },
    {
     "name": "stdout",
     "output_type": "stream",
     "text": [
      "Sarcasm F1: 0.7437, Sentiment F1: 0.6259, Dialect F1: 0.6142\n",
      "\n"
     ]
    }
   ],
   "source": [
    "# Train the model\n",
    "trained_model, history = train_multi_task_model(\n",
    "    model=model,\n",
    "    train_loader=train_loader,\n",
    "    test_loader=test_loader,\n",
    "    config=CONFIG,\n",
    "    device=device\n",
    ")"
   ]
  },
  {
   "cell_type": "markdown",
   "id": "e7f2e25a",
   "metadata": {},
   "source": [
    "## 12. Plot Training History"
   ]
  },
  {
   "cell_type": "code",
   "execution_count": 24,
   "id": "0a4ba1f0",
   "metadata": {},
   "outputs": [
    {
     "data": {
      "image/png": "[encoded data removed]",
      "text/plain": [
       "<Figure size 1500x500 with 2 Axes>"
      ]
     },
     "metadata": {},
     "output_type": "display_data"
    }
   ],
   "source": [
    "# Plot training loss and F1 scores\n",
    "plt.figure(figsize=(15, 5))\n",
    "\n",
    "# Plot training loss\n",
    "plt.subplot(1, 2, 1)\n",
    "plt.plot(history['train_loss'])\n",
    "plt.title('Training Loss')\n",
    "plt.xlabel('Epoch')\n",
    "plt.ylabel('Loss')\n",
    "\n",
    "# Plot F1 scores\n",
    "plt.subplot(1, 2, 2)\n",
    "plt.plot(history['sarcasm_f1'], label='Sarcasm F1')\n",
    "plt.plot(history['sentiment_f1'], label='Sentiment F1')\n",
    "plt.plot(history['dialect_f1'], label='Dialect F1')\n",
    "plt.title('F1 Scores')\n",
    "plt.xlabel('Epoch')\n",
    "plt.ylabel('F1 Score')\n",
    "plt.legend()\n",
    "\n",
    "plt.tight_layout()\n",
    "plt.show()"
   ]
  },
  {
   "cell_type": "markdown",
   "id": "4675baf1",
   "metadata": {},
   "source": [
    "## 13. Detailed Evaluation on Test Set"
   ]
  },
  {
   "cell_type": "code",
   "execution_count": 25,
   "id": "dace3297",
   "metadata": {},
   "outputs": [
    {
     "data": {
      "application/vnd.jupyter.widget-view+json": {
       "model_id": "9a246fa15f9449f38aa64b24e8bab4c8",
       "version_major": 2,
       "version_minor": 0
      },
      "text/plain": [
       "Detailed Evaluation:   0%|          | 0/188 [00:00<?, ?it/s]"
      ]
     },
     "metadata": {},
     "output_type": "display_data"
    },
    {
     "name": "stdout",
     "output_type": "stream",
     "text": [
      "\n",
      "Sarcasm Classification Report:\n",
      "               precision    recall  f1-score   support\n",
      "\n",
      "Not Sarcastic       0.85      0.78      0.81      2178\n",
      "    Sarcastic       0.51      0.63      0.57       821\n",
      "\n",
      "     accuracy                           0.74      2999\n",
      "    macro avg       0.68      0.70      0.69      2999\n",
      " weighted avg       0.76      0.74      0.74      2999\n",
      "\n",
      "\n",
      "Sentiment Classification Report:\n",
      "              precision    recall  f1-score   support\n",
      "\n",
      "         NEG       0.77      0.70      0.73      1677\n",
      "         NEU       0.51      0.38      0.43       747\n",
      "         POS       0.46      0.74      0.57       575\n",
      "\n",
      "    accuracy                           0.63      2999\n",
      "   macro avg       0.58      0.61      0.58      2999\n",
      "weighted avg       0.64      0.63      0.63      2999\n",
      "\n",
      "\n",
      "Dialect Classification Report:\n",
      "              precision    recall  f1-score   support\n",
      "\n",
      "       egypt       0.26      0.79      0.39       306\n",
      "        gulf       0.32      0.51      0.39       322\n",
      "      levant       0.13      0.68      0.22        47\n",
      "      magreb       0.00      0.00      0.00         2\n",
      "         msa       0.95      0.53      0.68      2322\n",
      "\n",
      "    accuracy                           0.56      2999\n",
      "   macro avg       0.33      0.50      0.34      2999\n",
      "weighted avg       0.80      0.56      0.61      2999\n",
      "\n"
     ]
    },
    {
     "data": {
      "image/png": "[encoded data removed]",
      "text/plain": [
       "<Figure size 2000x500 with 6 Axes>"
      ]
     },
     "metadata": {},
     "output_type": "display_data"
    },
    {
     "name": "stdout",
     "output_type": "stream",
     "text": [
      "\n",
      "Test Metrics:\n",
      "sarcasm_f1: 0.7437\n",
      "sentiment_f1: 0.6259\n",
      "dialect_f1: 0.6142\n",
      "sarcasm_accuracy: 0.7362\n",
      "sentiment_accuracy: 0.6262\n",
      "dialect_accuracy: 0.5585\n"
     ]
    }
   ],
   "source": [
    "# Perform detailed evaluation\n",
    "test_metrics = detailed_evaluation(\n",
    "    model=trained_model,\n",
    "    data_loader=test_loader,\n",
    "    device=device,\n",
    "    sentiment_encoder=sentiment_encoder,\n",
    "    dialect_encoder=dialect_encoder\n",
    ")\n",
    "\n",
    "print(\"\\nTest Metrics:\")\n",
    "for metric, value in test_metrics.items():\n",
    "    print(f\"{metric}: {value:.4f}\")"
   ]
  },
  {
   "cell_type": "markdown",
   "id": "c62c4074",
   "metadata": {},
   "source": [
    "## 14. Save the Model"
   ]
  },
  {
   "cell_type": "code",
   "execution_count": 26,
   "id": "925df1b1",
   "metadata": {},
   "outputs": [
    {
     "name": "stdout",
     "output_type": "stream",
     "text": [
      "Model and configurations saved to arabert-multitask-output\n"
     ]
    }
   ],
   "source": [
    "# Create output directory if it doesn't exist\n",
    "os.makedirs(CONFIG[\"OUTPUT_DIR\"], exist_ok=True)\n",
    "\n",
    "# Save model weights\n",
    "torch.save(trained_model.state_dict(), os.path.join(CONFIG[\"OUTPUT_DIR\"], \"arabert_multitask_model.pt\"))\n",
    "\n",
    "# Save label encoders and configuration for later use\n",
    "import pickle\n",
    "\n",
    "with open(os.path.join(CONFIG[\"OUTPUT_DIR\"], \"sentiment_encoder.pkl\"), \"wb\") as f:\n",
    "    pickle.dump(sentiment_encoder, f)\n",
    "\n",
    "with open(os.path.join(CONFIG[\"OUTPUT_DIR\"], \"dialect_encoder.pkl\"), \"wb\") as f:\n",
    "    pickle.dump(dialect_encoder, f)\n",
    "\n",
    "with open(os.path.join(CONFIG[\"OUTPUT_DIR\"], \"config.pkl\"), \"wb\") as f:\n",
    "    pickle.dump(CONFIG, f)\n",
    "\n",
    "print(f\"Model and configurations saved to {CONFIG['OUTPUT_DIR']}\")"
   ]
  },
  {
   "cell_type": "markdown",
   "id": "491cabf9",
   "metadata": {},
   "source": [
    "## 15. Example Function to Make Predictions on New Data"
   ]
  },
  {
   "cell_type": "code",
   "execution_count": 27,
   "id": "edc2035f",
   "metadata": {},
   "outputs": [],
   "source": [
    "def predict_text(text, model, tokenizer, sentiment_encoder, dialect_encoder, device, max_length=256):\n",
    "    model.eval()\n",
    "    \n",
    "    # Preprocess the input text for AraBERT\n",
    "    preprocessed_text = arabert_preprocess(text)\n",
    "    \n",
    "    # Tokenize the preprocessed text\n",
    "    encoding = tokenizer(\n",
    "        preprocessed_text,\n",
    "        truncation=True,\n",
    "        max_length=max_length,\n",
    "        padding=\"max_length\",\n",
    "        return_tensors=\"pt\"\n",
    "    )\n",
    "    \n",
    "    # Move input to device\n",
    "    input_ids = encoding[\"input_ids\"].to(device)\n",
    "    attention_mask = encoding[\"attention_mask\"].to(device)\n",
    "    \n",
    "    # Make predictions\n",
    "    with torch.no_grad():\n",
    "        sarcasm_logits, sentiment_logits, dialect_logits = model(\n",
    "            input_ids=input_ids,\n",
    "            attention_mask=attention_mask\n",
    "        )\n",
    "    \n",
    "    # Get prediction classes\n",
    "    sarcasm_pred = torch.argmax(sarcasm_logits, dim=1).item()\n",
    "    sentiment_pred = torch.argmax(sentiment_logits, dim=1).item()\n",
    "    dialect_pred = torch.argmax(dialect_logits, dim=1).item()\n",
    "    \n",
    "    # Convert numeric predictions to human-readable labels\n",
    "    sarcasm_label = \"Sarcastic\" if sarcasm_pred == 1 else \"Not Sarcastic\"\n",
    "    sentiment_label = sentiment_encoder.inverse_transform([sentiment_pred])[0]\n",
    "    dialect_label = dialect_encoder.inverse_transform([dialect_pred])[0]\n",
    "    \n",
    "    # Get probabilities\n",
    "    sarcasm_probs = torch.softmax(sarcasm_logits, dim=1)[0].cpu().numpy()\n",
    "    sentiment_probs = torch.softmax(sentiment_logits, dim=1)[0].cpu().numpy()\n",
    "    dialect_probs = torch.softmax(dialect_logits, dim=1)[0].cpu().numpy()\n",
    "    \n",
    "    return {\n",
    "        \"text\": text,\n",
    "        \"sarcasm\": {\n",
    "            \"prediction\": sarcasm_label,\n",
    "            \"probability\": sarcasm_probs[sarcasm_pred]\n",
    "        },\n",
    "        \"sentiment\": {\n",
    "            \"prediction\": sentiment_label,\n",
    "            \"probability\": sentiment_probs[sentiment_pred]\n",
    "        },\n",
    "        \"dialect\": {\n",
    "            \"prediction\": dialect_label,\n",
    "            \"probability\": dialect_probs[dialect_pred]\n",
    "        }\n",
    "    }"
   ]
  },
  {
   "cell_type": "code",
   "execution_count": 29,
   "id": "5110767c",
   "metadata": {},
   "outputs": [
    {
     "name": "stdout",
     "output_type": "stream",
     "text": [
      "\n",
      "Text: اخوي حانق يالغلا وشفيك معصب؟ عادي تراهم بشر يفطرون الصبح قلابة وتميس تيك ات ايزي مان\n",
      "Sarcasm: Sarcastic (Probability: 0.8764)\n",
      "Sentiment: NEG (Probability: 0.8661)\n",
      "Dialect: gulf (Probability: 0.9233)\n",
      "--------------------------------------------------------------------------------\n",
      "\n",
      "Text: أف مو متعوده عليهم سته 8126\n",
      "Sarcasm: Not Sarcastic (Probability: 0.7658)\n",
      "Sentiment: NEG (Probability: 0.5162)\n",
      "Dialect: gulf (Probability: 0.8939)\n",
      "--------------------------------------------------------------------------------\n",
      "\n",
      "Text: اللهم اشفِ مرضانا ومرضى المسلمين\n",
      "Sarcasm: Not Sarcastic (Probability: 0.9873)\n",
      "Sentiment: POS (Probability: 0.8539)\n",
      "Dialect: msa (Probability: 0.7168)\n",
      "--------------------------------------------------------------------------------\n",
      "\n",
      "Text: هههههههههههههههههههههههههههههههههههههههههههههههههههههههههههههههههههههههههههههههههههههههههه بس الصدق أنه وضع فريقك العالمي الأول\n",
      "Sarcasm: Sarcastic (Probability: 0.8600)\n",
      "Sentiment: NEG (Probability: 0.7583)\n",
      "Dialect: egypt (Probability: 0.5926)\n",
      "--------------------------------------------------------------------------------\n"
     ]
    }
   ],
   "source": [
    "# Try the prediction function on a few examples\n",
    "example_texts = [\n",
    "    \"اخوي حانق يالغلا وشفيك معصب؟ عادي تراهم بشر يفطرون الصبح قلابة وتميس تيك ات ايزي مان\",\n",
    "    \"أف مو متعوده عليهم سته 8126\",\n",
    "    \"اللهم اشفِ مرضانا ومرضى المسلمين\",\n",
    "    \"هههههههههههههههههههههههههههههههههههههههههههههههههههههههههههههههههههههههههههههههههههههههههه بس الصدق أنه وضع فريقك العالمي الأول\"\n",
    "]\n",
    "\n",
    "for text in example_texts:\n",
    "    prediction = predict_text(\n",
    "        text=text,\n",
    "        model=trained_model,\n",
    "        tokenizer=tokenizer,\n",
    "        sentiment_encoder=sentiment_encoder,\n",
    "        dialect_encoder=dialect_encoder,\n",
    "        device=device\n",
    "    )\n",
    "    \n",
    "    print(f\"\\nText: {prediction['text']}\")\n",
    "    print(f\"Sarcasm: {prediction['sarcasm']['prediction']} (Probability: {prediction['sarcasm']['probability']:.4f})\")\n",
    "    print(f\"Sentiment: {prediction['sentiment']['prediction']} (Probability: {prediction['sentiment']['probability']:.4f})\")\n",
    "    print(f\"Dialect: {prediction['dialect']['prediction']} (Probability: {prediction['dialect']['probability']:.4f})\")\n",
    "    print(\"-\" * 80)"
   ]
  },
  {
   "cell_type": "markdown",
   "id": "443461bb",
   "metadata": {},
   "source": [
    "## 16. Conclusion and Next Steps\n",
    "\n",
    "We've successfully implemented a multi-task learning model using AraBERT for Arabic text classification. The model can simultaneously predict sarcasm, sentiment, and dialect from Arabic tweets.\n",
    "\n",
    "### Possible Next Steps:\n",
    "\n",
    "1. **Hyperparameter Tuning**: Experiment with different learning rates, batch sizes, and dropout values to improve performance.\n",
    "2. **Model Variants**: Try different pre-trained Arabic language models like CamelBERT, MarBERT, or AraELECTRA.\n",
    "3. **Task Weighting**: Apply different weights to each task's loss function based on their importance.\n",
    "4. **Data Augmentation**: Use techniques like back-translation or synonym replacement to increase the size of the training set.\n",
    "5. **Ensemble Models**: Train multiple models and combine their predictions for better performance.\n",
    "6. **Error Analysis**: Analyze misclassified examples to understand model limitations.\n",
    "7. **Deployment**: Deploy the model using frameworks like TensorFlow Serving or TorchServe."
   ]
  }
 ],
 "metadata": {
  "kernelspec": {
   "display_name": "Python 3",
   "language": "python",
   "name": "python3"
  },
  "language_info": {
   "codemirror_mode": {
    "name": "ipython",
    "version": 3
   },
   "file_extension": ".py",
   "mimetype": "text/x-python",
   "name": "python",
   "nbconvert_exporter": "python",
   "pygments_lexer": "ipython3",
   "version": "3.10.10"
  }
 },
 "nbformat": 4,
 "nbformat_minor": 5
}
