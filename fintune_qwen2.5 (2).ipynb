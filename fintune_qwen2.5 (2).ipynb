{
 "cells": [
  {
   "cell_type": "code",
   "execution_count": 62,
   "metadata": {},
   "outputs": [],
   "source": [
    "import os\n",
    "os.environ[\"TOKENIZERS_PARALLELISM\"] = \"false\""
   ]
  },
  {
   "cell_type": "code",
   "execution_count": 60,
   "metadata": {},
   "outputs": [
    {
     "name": "stderr",
     "output_type": "stream",
     "text": [
      "huggingface/tokenizers: The current process just got forked, after parallelism has already been used. Disabling parallelism to avoid deadlocks...\n",
      "To disable this warning, you can either:\n",
      "\t- Avoid using `tokenizers` before the fork if possible\n",
      "\t- Explicitly set the environment variable TOKENIZERS_PARALLELISM=(true | false)\n"
     ]
    },
    {
     "name": "stdout",
     "output_type": "stream",
     "text": [
      "Collecting xformers<0.0.26\n",
      "  Downloading xformers-0.0.25.post1-cp310-cp310-manylinux2014_x86_64.whl.metadata (1.0 kB)\n",
      "Requirement already satisfied: trl in /system/conda/miniconda3/envs/cloudspace/lib/python3.10/site-packages (0.15.1)\n",
      "Requirement already satisfied: peft in /system/conda/miniconda3/envs/cloudspace/lib/python3.10/site-packages (0.14.0)\n",
      "Requirement already satisfied: accelerate in /system/conda/miniconda3/envs/cloudspace/lib/python3.10/site-packages (1.4.0)\n",
      "Requirement already satisfied: bitsandbytes in /system/conda/miniconda3/envs/cloudspace/lib/python3.10/site-packages (0.45.3)\n",
      "Downloading xformers-0.0.25.post1-cp310-cp310-manylinux2014_x86_64.whl (222.5 MB)\n",
      "\u001b[2K   \u001b[90m━━━━━━━━━━━━━━━━━━━━━━━━━━━━━━━━━━━━━━━\u001b[0m \u001b[32m222.5/222.5 MB\u001b[0m \u001b[31m131.6 MB/s\u001b[0m eta \u001b[36m0:00:00\u001b[0m00:01\u001b[0m00:01\u001b[0m\n",
      "\u001b[?25hInstalling collected packages: xformers\n",
      "  Attempting uninstall: xformers\n",
      "    Found existing installation: xformers 0.0.29.post3\n",
      "    Uninstalling xformers-0.0.29.post3:\n",
      "      Successfully uninstalled xformers-0.0.29.post3\n",
      "Successfully installed xformers-0.0.25.post1\n"
     ]
    }
   ],
   "source": [
    "!pip install --no-deps \"xformers<0.0.26\" trl peft accelerate bitsandbytes"
   ]
  },
  {
   "cell_type": "code",
   "execution_count": 65,
   "metadata": {},
   "outputs": [
    {
     "name": "stdout",
     "output_type": "stream",
     "text": [
      "Training samples: 11294\n",
      "Evaluation samples: 1255\n",
      "Sample: {'input': 'في ليلة فاقت الوصف من جمالها ي حلق في سورة غافر الشيخ عبدالله الجهني ليلة ال٢٣ من رمضان ١٤٣٢ هـ', 'is_sarcastic': False, 'sentiment': 'POS', 'dialect': 'msa', 'sarcasm_instruction': \"Analyze if the given Arabic text contains sarcasm. Return ONLY 'TRUE' or 'FALSE' with no additional text or explanation.\", 'sentiment_instruction': \"Classify the sentiment of the given Arabic text. Return ONLY one of these labels: 'POS', 'NEG', or 'NEU' with no additional text or explanation.\", 'dialect_instruction': \"Identify the Arabic dialect in the given text. Return ONLY one of these labels: 'msa', 'egypt', 'gulf', 'levant', or 'magreb' with no additional text or explanation.\", 'predicted_sarcasm': '', 'predicted_sentiment': '', 'predicted_dialect': ''}\n"
     ]
    }
   ],
   "source": [
    "import json\n",
    "from datasets import Dataset\n",
    "\n",
    "# Load dataset (adjust path as needed)\n",
    "with open('/teamspace/studios/this_studio/NLP/arsarcasm_train.json', 'r', encoding='utf-8') as f:\n",
    "    data = json.load(f)  # For single JSON array\n",
    "\n",
    "dataset = Dataset.from_list(data)\n",
    "dataset = dataset.train_test_split(test_size=0.1)\n",
    "train_dataset = dataset[\"train\"]\n",
    "eval_dataset = dataset[\"test\"]\n",
    "\n",
    "print(f\"Training samples: {len(train_dataset)}\")\n",
    "print(f\"Evaluation samples: {len(eval_dataset)}\")\n",
    "print(\"Sample:\", train_dataset[0])"
   ]
  },
  {
   "cell_type": "code",
   "execution_count": 66,
   "metadata": {},
   "outputs": [
    {
     "name": "stdout",
     "output_type": "stream",
     "text": [
      "Total examples: 12549\n",
      "First example: {'input': 'في ليلة فاقت الوصف من جمالها ي حلق في سورة غافر الشيخ عبدالله الجهني ليلة ال٢٣ من رمضان ١٤٣٢ هـ', 'is_sarcastic': False, 'sentiment': 'POS', 'dialect': 'msa', 'sarcasm_instruction': \"Analyze if the given Arabic text contains sarcasm. Return ONLY 'TRUE' or 'FALSE' with no additional text or explanation.\", 'sentiment_instruction': \"Classify the sentiment of the given Arabic text. Return ONLY one of these labels: 'POS', 'NEG', or 'NEU' with no additional text or explanation.\", 'dialect_instruction': \"Identify the Arabic dialect in the given text. Return ONLY one of these labels: 'msa', 'egypt', 'gulf', 'levant', or 'magreb' with no additional text or explanation.\", 'predicted_sarcasm': '', 'predicted_sentiment': '', 'predicted_dialect': ''}\n"
     ]
    }
   ],
   "source": [
    "print(f\"Total examples: {len(dataset['train']) + len(dataset['test'])}\")\n",
    "print(\"First example:\", dataset['train'][0])"
   ]
  },
  {
   "cell_type": "code",
   "execution_count": 67,
   "metadata": {},
   "outputs": [
    {
     "data": {
      "application/vnd.jupyter.widget-view+json": {
       "model_id": "44e870f07134417589ed56fe95d320fe",
       "version_major": 2,
       "version_minor": 0
      },
      "text/plain": [
       "Map:   0%|          | 0/11294 [00:00<?, ? examples/s]"
      ]
     },
     "metadata": {},
     "output_type": "display_data"
    },
    {
     "data": {
      "application/vnd.jupyter.widget-view+json": {
       "model_id": "eddfede6d89f426fb9b0282618741b36",
       "version_major": 2,
       "version_minor": 0
      },
      "text/plain": [
       "Map:   0%|          | 0/1255 [00:00<?, ? examples/s]"
      ]
     },
     "metadata": {},
     "output_type": "display_data"
    }
   ],
   "source": [
    "# 4. Create multi-task prompt template\n",
    "def formatting_prompts_func(examples):\n",
    "    instructions = []\n",
    "    inputs = []\n",
    "    outputs = []\n",
    "    \n",
    "    for input_text, sarc_inst, sent_inst, dial_inst, sarcasm, sentiment, dialect in zip(\n",
    "        examples[\"input\"],\n",
    "        examples[\"sarcasm_instruction\"],\n",
    "        examples[\"sentiment_instruction\"],\n",
    "        examples[\"dialect_instruction\"],\n",
    "        examples[\"is_sarcastic\"],\n",
    "        examples[\"sentiment\"],\n",
    "        examples[\"dialect\"],\n",
    "    ):\n",
    "        # Combined instruction for all tasks\n",
    "        combined_instruction = (\n",
    "            f\"Perform all these tasks for the Arabic text:\\n\"\n",
    "            f\"1. {sarc_inst}\\n\"\n",
    "            f\"2. {sent_inst}\\n\"\n",
    "            f\"3. {dial_inst}\\n\\n\"\n",
    "            f\"Text: {input_text}\\n\\n\"\n",
    "            \"Respond with EXACTLY this format:\\n\"\n",
    "            \"Sarcasm: TRUE/FALSE\\n\"\n",
    "            \"Sentiment: POS/NEG/NEU\\n\"\n",
    "            \"Dialect: msa/egypt/gulf/levant/magreb\"\n",
    "        )\n",
    "        \n",
    "        # Combined output\n",
    "        combined_output = (\n",
    "            f\"Sarcasm: {'TRUE' if sarcasm else 'FALSE'}\\n\"\n",
    "            f\"Sentiment: {sentiment}\\n\"\n",
    "            f\"Dialect: {dialect}\"\n",
    "        )\n",
    "        \n",
    "        instructions.append(combined_instruction)\n",
    "        inputs.append(input_text)\n",
    "        outputs.append(combined_output)\n",
    "    \n",
    "    return {\"text\": [f\"### Instruction:\\n{i}\\n\\n### Input:\\n{x}\\n\\n### Response:\\n{y}\" \n",
    "                    for i, x, y in zip(instructions, inputs, outputs)]}\n",
    "\n",
    "# Apply formatting\n",
    "train_dataset = train_dataset.map(formatting_prompts_func, batched=True)\n",
    "eval_dataset = eval_dataset.map(formatting_prompts_func, batched=True)\n"
   ]
  },
  {
   "cell_type": "code",
   "execution_count": 69,
   "metadata": {},
   "outputs": [
    {
     "name": "stdout",
     "output_type": "stream",
     "text": [
      "==((====))==  Unsloth 2025.3.14: Fast Qwen2 patching. Transformers: 4.49.0.\n",
      "   \\\\   /|    NVIDIA L4. Num GPUs = 1. Max memory: 22.168 GB. Platform: Linux.\n",
      "O^O/ \\_/ \\    Torch: 2.6.0+cu118. CUDA: 8.9. CUDA Toolkit: 11.8. Triton: 3.2.0\n",
      "\\        /    Bfloat16 = TRUE. FA [Xformers = 0.0.29.post3. FA2 = False]\n",
      " \"-____-\"     Free license: http://github.com/unslothai/unsloth\n",
      "Unsloth: Fast downloading is enabled - ignore downloading bars which are red colored!\n"
     ]
    },
    {
     "data": {
      "application/vnd.jupyter.widget-view+json": {
       "model_id": "c86e4572331945ab90af2c07ca59ccfa",
       "version_major": 2,
       "version_minor": 0
      },
      "text/plain": [
       "Loading checkpoint shards:   0%|          | 0/2 [00:00<?, ?it/s]"
      ]
     },
     "metadata": {},
     "output_type": "display_data"
    }
   ],
   "source": [
    "# 5. Load model\n",
    "from unsloth import FastLanguageModel\n",
    "import torch\n",
    "\n",
    "model, tokenizer = FastLanguageModel.from_pretrained(\n",
    "    \"Qwen/Qwen2.5-7B\",\n",
    "    max_seq_length=2048,\n",
    "    dtype=None,\n",
    "    load_in_4bit=True,\n",
    ")\n",
    "\n",
    "# Add LoRA adapters\n",
    "model = FastLanguageModel.get_peft_model(\n",
    "    model,\n",
    "    r=16,\n",
    "    target_modules=[\"q_proj\", \"k_proj\", \"v_proj\", \"o_proj\",\n",
    "                  \"gate_proj\", \"up_proj\", \"down_proj\"],\n",
    "    lora_alpha=16,\n",
    "    lora_dropout=0,\n",
    "    bias=\"none\",\n",
    "    use_gradient_checkpointing=True,\n",
    "    random_state=3407,\n",
    "    max_seq_length=2048,\n",
    ")"
   ]
  },
  {
   "cell_type": "code",
   "execution_count": 70,
   "metadata": {},
   "outputs": [
    {
     "name": "stderr",
     "output_type": "stream",
     "text": [
      "/home/zeus/miniconda3/envs/cloudspace/lib/python3.10/site-packages/transformers/training_args.py:1594: FutureWarning: `evaluation_strategy` is deprecated and will be removed in version 4.46 of 🤗 Transformers. Use `eval_strategy` instead\n",
      "  warnings.warn(\n",
      "/home/zeus/miniconda3/envs/cloudspace/lib/python3.10/site-packages/transformers/training_args.py:1594: FutureWarning: `evaluation_strategy` is deprecated and will be removed in version 4.46 of 🤗 Transformers. Use `eval_strategy` instead\n",
      "  warnings.warn(\n"
     ]
    },
    {
     "data": {
      "application/vnd.jupyter.widget-view+json": {
       "model_id": "045dd83c84a642d599a505abe2f443ad",
       "version_major": 2,
       "version_minor": 0
      },
      "text/plain": [
       "Unsloth: Tokenizing [\"text\"] (num_proc=16):   0%|          | 0/11294 [00:00<?, ? examples/s]"
      ]
     },
     "metadata": {},
     "output_type": "display_data"
    },
    {
     "data": {
      "application/vnd.jupyter.widget-view+json": {
       "model_id": "31741976421c4366b4b4a91214e2da7a",
       "version_major": 2,
       "version_minor": 0
      },
      "text/plain": [
       "Unsloth: Tokenizing [\"text\"] (num_proc=16):   0%|          | 0/1255 [00:00<?, ? examples/s]"
      ]
     },
     "metadata": {},
     "output_type": "display_data"
    }
   ],
   "source": [
    "# 6. Training setup\n",
    "from transformers import TrainingArguments\n",
    "\n",
    "trainer_args = TrainingArguments(\n",
    "    per_device_train_batch_size=2,\n",
    "    gradient_accumulation_steps=4,\n",
    "    warmup_steps=50,\n",
    "    max_steps=1000,\n",
    "    learning_rate=2e-5,\n",
    "    fp16=not torch.cuda.is_bf16_supported(),\n",
    "    bf16=torch.cuda.is_bf16_supported(),\n",
    "    logging_steps=10,\n",
    "    optim=\"adamw_8bit\",\n",
    "    weight_decay=0.01,\n",
    "    lr_scheduler_type=\"linear\",\n",
    "    seed=3407,\n",
    "    output_dir=\"outputs\",\n",
    "    evaluation_strategy=\"steps\",\n",
    "    eval_steps=100,\n",
    "    save_strategy=\"steps\",\n",
    "    save_steps=100,\n",
    "    load_best_model_at_end=True,\n",
    ")\n",
    "\n",
    "# 7. Create trainer\n",
    "from trl import SFTTrainer\n",
    "\n",
    "trainer = SFTTrainer(\n",
    "    model=model,\n",
    "    train_dataset=train_dataset,\n",
    "    eval_dataset=eval_dataset,\n",
    "    dataset_text_field=\"text\",\n",
    "    tokenizer=tokenizer,\n",
    "    args=trainer_args,\n",
    "    max_seq_length=1024,\n",
    ")\n"
   ]
  },
  {
   "cell_type": "code",
   "execution_count": 71,
   "metadata": {},
   "outputs": [
    {
     "name": "stderr",
     "output_type": "stream",
     "text": [
      "==((====))==  Unsloth - 2x faster free finetuning | Num GPUs used = 1\n",
      "   \\\\   /|    Num examples = 11,294 | Num Epochs = 1 | Total steps = 1,000\n",
      "O^O/ \\_/ \\    Batch size per device = 2 | Gradient accumulation steps = 4\n",
      "\\        /    Data Parallel GPUs = 1 | Total batch size (2 x 4 x 1) = 8\n",
      " \"-____-\"     Trainable parameters = 40,370,176/7,000,000,000 (0.58% trained)\n"
     ]
    },
    {
     "name": "stdout",
     "output_type": "stream",
     "text": [
      "Unsloth: Will smartly offload gradients to save VRAM!\n"
     ]
    },
    {
     "data": {
      "text/html": [
       "\n",
       "    <div>\n",
       "      \n",
       "      <progress value='1000' max='1000' style='width:300px; height:20px; vertical-align: middle;'></progress>\n",
       "      [1000/1000 1:37:48, Epoch 0/1]\n",
       "    </div>\n",
       "    <table border=\"1\" class=\"dataframe\">\n",
       "  <thead>\n",
       " <tr style=\"text-align: left;\">\n",
       "      <th>Step</th>\n",
       "      <th>Training Loss</th>\n",
       "      <th>Validation Loss</th>\n",
       "    </tr>\n",
       "  </thead>\n",
       "  <tbody>\n",
       "    <tr>\n",
       "      <td>100</td>\n",
       "      <td>0.491800</td>\n",
       "      <td>0.479141</td>\n",
       "    </tr>\n",
       "    <tr>\n",
       "      <td>200</td>\n",
       "      <td>0.480000</td>\n",
       "      <td>0.465717</td>\n",
       "    </tr>\n",
       "    <tr>\n",
       "      <td>300</td>\n",
       "      <td>0.473700</td>\n",
       "      <td>0.460322</td>\n",
       "    </tr>\n",
       "    <tr>\n",
       "      <td>400</td>\n",
       "      <td>0.449700</td>\n",
       "      <td>0.456891</td>\n",
       "    </tr>\n",
       "    <tr>\n",
       "      <td>500</td>\n",
       "      <td>0.510100</td>\n",
       "      <td>0.453897</td>\n",
       "    </tr>\n",
       "    <tr>\n",
       "      <td>600</td>\n",
       "      <td>0.484300</td>\n",
       "      <td>0.452014</td>\n",
       "    </tr>\n",
       "    <tr>\n",
       "      <td>700</td>\n",
       "      <td>0.482100</td>\n",
       "      <td>0.450305</td>\n",
       "    </tr>\n",
       "    <tr>\n",
       "      <td>800</td>\n",
       "      <td>0.465700</td>\n",
       "      <td>0.449390</td>\n",
       "    </tr>\n",
       "    <tr>\n",
       "      <td>900</td>\n",
       "      <td>0.449800</td>\n",
       "      <td>0.448772</td>\n",
       "    </tr>\n",
       "    <tr>\n",
       "      <td>1000</td>\n",
       "      <td>0.471000</td>\n",
       "      <td>0.448430</td>\n",
       "    </tr>\n",
       "  </tbody>\n",
       "</table><p>"
      ],
      "text/plain": [
       "<IPython.core.display.HTML object>"
      ]
     },
     "metadata": {},
     "output_type": "display_data"
    },
    {
     "name": "stderr",
     "output_type": "stream",
     "text": [
      "Unsloth: Not an error, but Qwen2ForCausalLM does not accept `num_items_in_batch`.\n",
      "Using gradient accumulation will be very slightly less accurate.\n",
      "Read more on gradient accumulation issues here: https://unsloth.ai/blog/gradient\n"
     ]
    },
    {
     "data": {
      "text/plain": [
       "('qwen_arabic_multitask/tokenizer_config.json',\n",
       " 'qwen_arabic_multitask/special_tokens_map.json',\n",
       " 'qwen_arabic_multitask/vocab.json',\n",
       " 'qwen_arabic_multitask/merges.txt',\n",
       " 'qwen_arabic_multitask/added_tokens.json',\n",
       " 'qwen_arabic_multitask/tokenizer.json')"
      ]
     },
     "execution_count": 71,
     "metadata": {},
     "output_type": "execute_result"
    }
   ],
   "source": [
    "# 8. Train!\n",
    "trainer.train()\n",
    "\n",
    "# 9. Save model\n",
    "model.save_pretrained(\"qwen_arabic_multitask\")\n",
    "tokenizer.save_pretrained(\"qwen_arabic_multitask\")"
   ]
  },
  {
   "cell_type": "code",
   "execution_count": 72,
   "metadata": {},
   "outputs": [
    {
     "data": {
      "application/vnd.jupyter.widget-view+json": {
       "model_id": "d61737dede30468d86f03fadbde6c3c6",
       "version_major": 2,
       "version_minor": 0
      },
      "text/plain": [
       "VBox(children=(HTML(value='<center> <img\\nsrc=https://huggingface.co/front/assets/huggingface_logo-noborder.sv…"
      ]
     },
     "metadata": {},
     "output_type": "display_data"
    },
    {
     "name": "stderr",
     "output_type": "stream",
     "text": [
      "Token has not been saved to git credential helper.\n"
     ]
    }
   ],
   "source": [
    "# 1. First authenticate with Hugging Face\n",
    "from huggingface_hub import notebook_login\n",
    "notebook_login()"
   ]
  },
  {
   "cell_type": "code",
   "execution_count": 96,
   "metadata": {},
   "outputs": [
    {
     "name": "stderr",
     "output_type": "stream",
     "text": [
      "No files have been modified since last commit. Skipping to prevent empty commit.\n"
     ]
    },
    {
     "name": "stdout",
     "output_type": "stream",
     "text": [
      "Saved model to https://huggingface.co/omarwaleed523/qwen2.5-7b-arabic-multitask\n"
     ]
    },
    {
     "name": "stderr",
     "output_type": "stream",
     "text": [
      "No files have been modified since last commit. Skipping to prevent empty commit.\n"
     ]
    },
    {
     "name": "stdout",
     "output_type": "stream",
     "text": [
      "Model successfully pushed to: https://huggingface.co/omarwaleed523/qwen2.5-7b-arabic-multitask\n"
     ]
    }
   ],
   "source": [
    "# 2. Push model and tokenizer to public repository\n",
    "model.push_to_hub(\n",
    "    \"omarwaleed523/qwen2.5-7b-arabic-multitask\",\n",
    "    private=False,  # Make repository public\n",
    "    create_pr=False,  # Directly push to main (since new repo)\n",
    ")\n",
    "\n",
    "tokenizer.push_to_hub(\n",
    "    \"omarwaleed523/qwen2.5-7b-arabic-multitask\",\n",
    "    private=False,\n",
    "    create_pr=False,\n",
    ")\n",
    "\n",
    "print(\"Model successfully pushed to: https://huggingface.co/omarwaleed523/qwen2.5-7b-arabic-multitask\")"
   ]
  },
  {
   "cell_type": "code",
   "execution_count": 125,
   "metadata": {},
   "outputs": [
    {
     "name": "stdout",
     "output_type": "stream",
     "text": [
      "Collecting seaborn\n",
      "  Downloading seaborn-0.13.2-py3-none-any.whl.metadata (5.4 kB)\n",
      "Requirement already satisfied: numpy!=1.24.0,>=1.20 in /system/conda/miniconda3/envs/cloudspace/lib/python3.10/site-packages (from seaborn) (1.26.4)\n",
      "Requirement already satisfied: pandas>=1.2 in /system/conda/miniconda3/envs/cloudspace/lib/python3.10/site-packages (from seaborn) (2.1.4)\n",
      "Requirement already satisfied: matplotlib!=3.6.1,>=3.4 in /system/conda/miniconda3/envs/cloudspace/lib/python3.10/site-packages (from seaborn) (3.8.2)\n",
      "Requirement already satisfied: contourpy>=1.0.1 in /system/conda/miniconda3/envs/cloudspace/lib/python3.10/site-packages (from matplotlib!=3.6.1,>=3.4->seaborn) (1.3.1)\n",
      "Requirement already satisfied: cycler>=0.10 in /system/conda/miniconda3/envs/cloudspace/lib/python3.10/site-packages (from matplotlib!=3.6.1,>=3.4->seaborn) (0.12.1)\n",
      "Requirement already satisfied: fonttools>=4.22.0 in /system/conda/miniconda3/envs/cloudspace/lib/python3.10/site-packages (from matplotlib!=3.6.1,>=3.4->seaborn) (4.55.8)\n",
      "Requirement already satisfied: kiwisolver>=1.3.1 in /system/conda/miniconda3/envs/cloudspace/lib/python3.10/site-packages (from matplotlib!=3.6.1,>=3.4->seaborn) (1.4.8)\n",
      "Requirement already satisfied: packaging>=20.0 in /system/conda/miniconda3/envs/cloudspace/lib/python3.10/site-packages (from matplotlib!=3.6.1,>=3.4->seaborn) (24.2)\n",
      "Requirement already satisfied: pillow>=8 in /system/conda/miniconda3/envs/cloudspace/lib/python3.10/site-packages (from matplotlib!=3.6.1,>=3.4->seaborn) (11.1.0)\n",
      "Requirement already satisfied: pyparsing>=2.3.1 in /system/conda/miniconda3/envs/cloudspace/lib/python3.10/site-packages (from matplotlib!=3.6.1,>=3.4->seaborn) (3.2.1)\n",
      "Requirement already satisfied: python-dateutil>=2.7 in /system/conda/miniconda3/envs/cloudspace/lib/python3.10/site-packages (from matplotlib!=3.6.1,>=3.4->seaborn) (2.9.0.post0)\n",
      "Requirement already satisfied: pytz>=2020.1 in /system/conda/miniconda3/envs/cloudspace/lib/python3.10/site-packages (from pandas>=1.2->seaborn) (2025.1)\n",
      "Requirement already satisfied: tzdata>=2022.1 in /system/conda/miniconda3/envs/cloudspace/lib/python3.10/site-packages (from pandas>=1.2->seaborn) (2025.1)\n",
      "Requirement already satisfied: six>=1.5 in /system/conda/miniconda3/envs/cloudspace/lib/python3.10/site-packages (from python-dateutil>=2.7->matplotlib!=3.6.1,>=3.4->seaborn) (1.17.0)\n",
      "Downloading seaborn-0.13.2-py3-none-any.whl (294 kB)\n",
      "Installing collected packages: seaborn\n",
      "Successfully installed seaborn-0.13.2\n"
     ]
    },
    {
     "name": "stdout",
     "output_type": "stream",
     "text": [
      "Test samples: 3000\n",
      "Sample: {'input': 'اخوي حانق يالغلا وشفيك معصب عادي تراهم بشر يفطرون الصبح قلابة وتميس تيك ات ايزي مان', 'is_sarcastic': False, 'sentiment': 'NEG', 'dialect': 'msa', 'sarcasm_instruction': \"Analyze if the given Arabic text contains sarcasm. Return ONLY 'TRUE' or 'FALSE' with no additional text or explanation.\", 'sentiment_instruction': \"Classify the sentiment of the given Arabic text. Return ONLY one of these labels: 'POS', 'NEG', or 'NEU' with no additional text or explanation.\", 'dialect_instruction': \"Identify the Arabic dialect in the given text. Return ONLY one of these labels: 'msa', 'egypt', 'gulf', 'levant', or 'magreb' with no additional text or explanation.\", 'predicted_sarcasm': '', 'predicted_sentiment': '', 'predicted_dialect': ''}\n"
     ]
    }
   ],
   "source": [
    "!pip install seaborn"
   ]
  },
  {
   "cell_type": "code",
   "execution_count": 143,
   "metadata": {},
   "outputs": [
    {
     "name": "stdout",
     "output_type": "stream",
     "text": [
      "Test samples: 3000\n",
      "Sample: {'input': 'اخوي حانق يالغلا وشفيك معصب عادي تراهم بشر يفطرون الصبح قلابة وتميس تيك ات ايزي مان', 'is_sarcastic': False, 'sentiment': 'NEG', 'dialect': 'msa', 'sarcasm_instruction': \"Analyze if the given Arabic text contains sarcasm. Return ONLY 'TRUE' or 'FALSE' with no additional text or explanation.\", 'sentiment_instruction': \"Classify the sentiment of the given Arabic text. Return ONLY one of these labels: 'POS', 'NEG', or 'NEU' with no additional text or explanation.\", 'dialect_instruction': \"Identify the Arabic dialect in the given text. Return ONLY one of these labels: 'msa', 'egypt', 'gulf', 'levant', or 'magreb' with no additional text or explanation.\", 'predicted_sarcasm': '', 'predicted_sentiment': '', 'predicted_dialect': ''}\n"
     ]
    }
   ],
   "source": [
    "import json\n",
    "from datasets import Dataset\n",
    "from tqdm import tqdm\n",
    "import seaborn as sns\n",
    "import matplotlib.pyplot as plt\n",
    "import numpy as np\n",
    "from sklearn.metrics import confusion_matrix, classification_report\n",
    "\n",
    "# Load test dataset\n",
    "with open('/teamspace/studios/this_studio/NLP/arsarcasm_test.json', 'r', encoding='utf-8') as f:\n",
    "    test_data = json.load(f)\n",
    "\n",
    "test_dataset = Dataset.from_list(test_data)\n",
    "print(f\"Test samples: {len(test_dataset)}\")\n",
    "print(\"Sample:\", test_dataset[0])"
   ]
  },
  {
   "cell_type": "code",
   "execution_count": 144,
   "metadata": {},
   "outputs": [
    {
     "data": {
      "application/vnd.jupyter.widget-view+json": {
       "model_id": "2a28a6c61e3a417c8cf6e5123b81ec76",
       "version_major": 2,
       "version_minor": 0
      },
      "text/plain": [
       "Map:   0%|          | 0/3000 [00:00<?, ? examples/s]"
      ]
     },
     "metadata": {},
     "output_type": "display_data"
    }
   ],
   "source": [
    "\n",
    "# Alpaca-style prompt template\n",
    "alpaca_prompt = \"\"\"### Instruction:\n",
    "{instruction}\n",
    "\n",
    "### Input:\n",
    "{input}\n",
    "\n",
    "### Response:\n",
    "\"\"\"\n",
    "\n",
    "def create_prompt(examples):\n",
    "    prompts = []\n",
    "    for input_text, sarc_inst, sent_inst, dial_inst in zip(\n",
    "        examples[\"input\"],\n",
    "        examples[\"sarcasm_instruction\"],\n",
    "        examples[\"sentiment_instruction\"],\n",
    "        examples[\"dialect_instruction\"],\n",
    "    ):\n",
    "        # Combine instructions for all tasks\n",
    "        combined_instruction = (\n",
    "            f\"Perform all these tasks for the Arabic text:\\n\"\n",
    "            f\"1. {sarc_inst}\\n\"\n",
    "            f\"2. {sent_inst}\\n\"\n",
    "            f\"3. {dial_inst}\\n\\n\"\n",
    "            \"Respond with EXACTLY this format:\\n\"\n",
    "            \"Sarcasm: TRUE/FALSE\\n\"\n",
    "            \"Sentiment: POS/NEG/NEU\\n\"\n",
    "            \"Dialect: msa/egypt/gulf/levant/magreb\"\n",
    "        )\n",
    "        \n",
    "        # Create the full prompt\n",
    "        prompt = alpaca_prompt.format(instruction=combined_instruction, input=input_text, output=\"\")\n",
    "        prompts.append(prompt)\n",
    "    \n",
    "    return {\"prompt\": prompts}\n",
    "\n",
    "# Apply the prompt formatting to the test dataset\n",
    "test_dataset = test_dataset.map(create_prompt, batched=True)"
   ]
  },
  {
   "cell_type": "code",
   "execution_count": 138,
   "metadata": {},
   "outputs": [
    {
     "name": "stderr",
     "output_type": "stream",
     "text": [
      "  1%|          | 25/3000 [01:08<2:14:04,  2.70s/it]"
     ]
    }
   ],
   "source": [
    "# Enable faster inference\n",
    "FastLanguageModel.for_inference(model)\n",
    "\n",
    "# Simplified function to parse model output\n",
    "def parse_model_output(output):\n",
    "    # Initialize default values\n",
    "    sarcasm, sentiment, dialect = \"ERROR\", \"ERROR\", \"ERROR\"\n",
    "    \n",
    "    # Split the output into lines\n",
    "    lines = output.split(\"\\n\")\n",
    "    \n",
    "    # Extract values based on keywords\n",
    "    for line in lines:\n",
    "        if line.startswith(\"Sarcasm:\"):\n",
    "            sarcasm = line.split(\"Sarcasm:\")[1].strip()\n",
    "        elif line.startswith(\"Sentiment:\"):\n",
    "            sentiment = line.split(\"Sentiment:\")[1].strip()\n",
    "        elif line.startswith(\"Dialect:\") or line.startswith(\"Dialec:\"):  # Handle typo \"Dialec\"\n",
    "            dialect = line.split(\":\")[1].strip()\n",
    "    \n",
    "    return sarcasm, sentiment, dialect\n",
    "\n",
    "# Predictions for the full test dataset\n",
    "predictions = []\n",
    "\n",
    "for sample in tqdm(test_dataset):\n",
    "    inputs = tokenizer([sample[\"prompt\"]], return_tensors=\"pt\").to(\"cuda\")\n",
    "    with torch.no_grad():\n",
    "        outputs = model.generate(**inputs, max_new_tokens=64, use_cache=True)\n",
    "    decoded_output = tokenizer.decode(outputs[0], skip_special_tokens=True)\n",
    "    \n",
    "    # Parse the output\n",
    "    sarcasm, sentiment, dialect = parse_model_output(decoded_output)\n",
    "    predictions.append((sarcasm, sentiment, dialect))\n",
    "\n",
    "# Extract true labels\n",
    "true_labels = [\n",
    "    (\"TRUE\" if sample[\"is_sarcastic\"] else \"FALSE\", sample[\"sentiment\"], sample[\"dialect\"])\n",
    "    for sample in test_dataset\n",
    "]\n",
    "\n",
    "print(\"Predictions (first 10):\", predictions[:10])\n",
    "print(\"True Labels (first 10):\", true_labels[:10])"
   ]
  },
  {
   "cell_type": "code",
   "execution_count": 139,
   "metadata": {},
   "outputs": [],
   "source": [
    "\n",
    "# Filter out invalid predictions\n",
    "valid_indices = [\n",
    "    i for i, (pred_sarcasm, pred_sentiment, pred_dialect) in enumerate(predictions)\n",
    "    if pred_sarcasm != \"ERROR\" and pred_sentiment != \"ERROR\" and pred_dialect != \"ERROR\"\n",
    "]\n",
    "\n",
    "filtered_predictions = [predictions[i] for i in valid_indices]\n",
    "filtered_true_labels = [true_labels[i] for i in valid_indices]\n",
    "\n",
    "if not filtered_predictions:\n",
    "    raise ValueError(\"No valid predictions found. Check the parsing logic.\")\n",
    "\n",
    "# Separate filtered predictions and true labels for each task\n",
    "true_sarcasm, pred_sarcasm = zip(*[(true[0], pred[0]) for true, pred in zip(filtered_true_labels, filtered_predictions)])\n",
    "true_sentiment, pred_sentiment = zip(*[(true[1], pred[1]) for true, pred in zip(filtered_true_labels, filtered_predictions)])\n",
    "true_dialect, pred_dialect = zip(*[(true[2], pred[2]) for true, pred in zip(filtered_true_labels, filtered_predictions)])\n",
    "\n",
    "# Specify all possible labels for each task\n",
    "sarcasm_labels = [\"FALSE\", \"TRUE\"]\n",
    "sentiment_labels = [\"POS\", \"NEG\", \"NEU\"]\n",
    "dialect_labels = [\"msa\", \"egypt\", \"gulf\", \"levant\", \"magreb\"]"
   ]
  },
  {
   "cell_type": "code",
   "execution_count": 132,
   "metadata": {},
   "outputs": [],
   "source": [
    "# Function to plot confusion matrix using Seaborn\n",
    "def plot_confusion_matrix(true_labels, pred_labels, labels, title):\n",
    "    cm = confusion_matrix(true_labels, pred_labels, labels=labels)\n",
    "    plt.figure(figsize=(8, 6))\n",
    "    sns.heatmap(cm, annot=True, fmt=\"d\", cmap=\"Blues\", xticklabels=labels, yticklabels=labels)\n",
    "    plt.title(title)\n",
    "    plt.xlabel(\"Predicted\")\n",
    "    plt.ylabel(\"True\")\n",
    "    plt.show()"
   ]
  },
  {
   "cell_type": "code",
   "execution_count": null,
   "metadata": {},
   "outputs": [
    {
     "name": "stdout",
     "output_type": "stream",
     "text": [
      "Sarcasm Confusion Matrix:\n"
     ]
    },
    {
     "data": {
      "image/png": "[encoded data removed]",
      "text/plain": [
       "<Figure size 800x600 with 2 Axes>"
      ]
     },
     "metadata": {},
     "output_type": "display_data"
    },
    {
     "name": "stdout",
     "output_type": "stream",
     "text": [
      "Sarcasm Classification Report:\n",
      "              precision    recall  f1-score   support\n",
      "\n",
      "       FALSE       0.50      0.67      0.57         3\n",
      "        TRUE       0.00      0.00      0.00         2\n",
      "\n",
      "    accuracy                           0.40         5\n",
      "   macro avg       0.25      0.33      0.29         5\n",
      "weighted avg       0.30      0.40      0.34         5\n",
      "\n"
     ]
    }
   ],
   "source": [
    "# Sarcasm Evaluation\n",
    "print(\"Sarcasm Confusion Matrix:\")\n",
    "plot_confusion_matrix(true_sarcasm, pred_sarcasm, sarcasm_labels, \"Sarcasm Confusion Matrix\")\n",
    "\n",
    "print(\"Sarcasm Classification Report:\")\n",
    "print(classification_report(\n",
    "    true_sarcasm, pred_sarcasm, \n",
    "    labels=sarcasm_labels, \n",
    "    target_names=sarcasm_labels, \n",
    "    zero_division=0  # Handle cases where a class has no predictions\n",
    "))"
   ]
  },
  {
   "cell_type": "code",
   "execution_count": null,
   "metadata": {},
   "outputs": [
    {
     "name": "stdout",
     "output_type": "stream",
     "text": [
      "Sentiment Confusion Matrix:\n"
     ]
    },
    {
     "data": {
      "image/png": "[encoded data removed]",
      "text/plain": [
       "<Figure size 800x600 with 2 Axes>"
      ]
     },
     "metadata": {},
     "output_type": "display_data"
    },
    {
     "name": "stdout",
     "output_type": "stream",
     "text": [
      "Sentiment Classification Report:\n",
      "              precision    recall  f1-score   support\n",
      "\n",
      "         POS       0.00      0.00      0.00         2\n",
      "         NEG       1.00      1.00      1.00         3\n",
      "         NEU       0.00      0.00      0.00         0\n",
      "\n",
      "    accuracy                           0.60         5\n",
      "   macro avg       0.33      0.33      0.33         5\n",
      "weighted avg       0.60      0.60      0.60         5\n",
      "\n"
     ]
    }
   ],
   "source": [
    "# Sentiment Evaluation\n",
    "print(\"Sentiment Confusion Matrix:\")\n",
    "plot_confusion_matrix(true_sentiment, pred_sentiment, sentiment_labels, \"Sentiment Confusion Matrix\")\n",
    "\n",
    "print(\"Sentiment Classification Report:\")\n",
    "print(classification_report(\n",
    "    true_sentiment, pred_sentiment, \n",
    "    labels=sentiment_labels, \n",
    "    target_names=sentiment_labels, \n",
    "    zero_division=0  # Handle cases where a class has no predictions\n",
    "))"
   ]
  },
  {
   "cell_type": "code",
   "execution_count": null,
   "metadata": {},
   "outputs": [
    {
     "name": "stdout",
     "output_type": "stream",
     "text": [
      "Dialect Confusion Matrix:\n"
     ]
    },
    {
     "data": {
      "image/png": "[encoded data removed]",
      "text/plain": [
       "<Figure size 800x600 with 2 Axes>"
      ]
     },
     "metadata": {},
     "output_type": "display_data"
    },
    {
     "name": "stdout",
     "output_type": "stream",
     "text": [
      "Dialect Classification Report:\n",
      "              precision    recall  f1-score   support\n",
      "\n",
      "         msa       0.67      0.50      0.57         4\n",
      "       egypt       0.00      0.00      0.00         0\n",
      "        gulf       0.00      0.00      0.00         1\n",
      "      levant       0.00      0.00      0.00         0\n",
      "      magreb       0.00      0.00      0.00         0\n",
      "\n",
      "   micro avg       0.40      0.40      0.40         5\n",
      "   macro avg       0.13      0.10      0.11         5\n",
      "weighted avg       0.53      0.40      0.46         5\n",
      "\n"
     ]
    }
   ],
   "source": [
    "# Dialect Evaluation\n",
    "print(\"Dialect Confusion Matrix:\")\n",
    "plot_confusion_matrix(true_dialect, pred_dialect, dialect_labels, \"Dialect Confusion Matrix\")\n",
    "\n",
    "print(\"Dialect Classification Report:\")\n",
    "print(classification_report(\n",
    "    true_dialect, pred_dialect, \n",
    "    labels=dialect_labels, \n",
    "    target_names=dialect_labels, \n",
    "    zero_division=0  # Handle cases where a class has no predictions\n",
    "))"
   ]
  }
 ],
 "metadata": {
  "language_info": {
   "name": "python"
  }
 },
 "nbformat": 4,
 "nbformat_minor": 2
}
