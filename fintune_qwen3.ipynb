{
 "cells": [
  {
   "cell_type": "code",
   "execution_count": 1,
   "metadata": {},
   "outputs": [],
   "source": [
    "import os\n",
    "os.environ[\"TOKENIZERS_PARALLELISM\"] = \"false\""
   ]
  },
  {
   "cell_type": "code",
   "execution_count": 2,
   "metadata": {},
   "outputs": [
    {
     "name": "stdout",
     "output_type": "stream",
     "text": [
      "\u001b[33mWARNING: Ignoring invalid distribution -riton (/system/conda/miniconda3/envs/cloudspace/lib/python3.10/site-packages)\u001b[0m\u001b[33m\n",
      "\u001b[0mRequirement already satisfied: xformers<0.0.26 in /system/conda/miniconda3/envs/cloudspace/lib/python3.10/site-packages (0.0.25.post1)\n",
      "Requirement already satisfied: trl in /system/conda/miniconda3/envs/cloudspace/lib/python3.10/site-packages (0.15.2)\n",
      "Requirement already satisfied: peft in /system/conda/miniconda3/envs/cloudspace/lib/python3.10/site-packages (0.14.0)\n",
      "Requirement already satisfied: accelerate in /system/conda/miniconda3/envs/cloudspace/lib/python3.10/site-packages (1.4.0)\n",
      "Requirement already satisfied: bitsandbytes in /system/conda/miniconda3/envs/cloudspace/lib/python3.10/site-packages (0.45.3)\n",
      "\u001b[33mWARNING: Ignoring invalid distribution -riton (/system/conda/miniconda3/envs/cloudspace/lib/python3.10/site-packages)\u001b[0m\u001b[33m\n",
      "\u001b[0m"
     ]
    }
   ],
   "source": [
    "!pip install --no-deps \"xformers<0.0.26\" trl peft accelerate bitsandbytes"
   ]
  },
  {
   "cell_type": "code",
   "execution_count": 4,
   "metadata": {},
   "outputs": [
    {
     "name": "stdout",
     "output_type": "stream",
     "text": [
      "Training samples: 11294\n",
      "Evaluation samples: 1255\n",
      "Sample: {'input': 'يا أيها المغيبون', 'is_sarcastic': True, 'sentiment': 'NEG', 'dialect': 'msa', 'sarcasm_instruction': \"Analyze if the given Arabic text contains sarcasm. Return ONLY 'TRUE' or 'FALSE' with no additional text or explanation.\", 'sentiment_instruction': \"Classify the sentiment of the given Arabic text. Return ONLY one of these labels: 'POS', 'NEG', or 'NEU' with no additional text or explanation.\", 'dialect_instruction': \"Identify the Arabic dialect in the given text. Return ONLY one of these labels: 'msa', 'egypt', 'gulf', 'levant', or 'magreb' with no additional text or explanation.\", 'predicted_sarcasm': '', 'predicted_sentiment': '', 'predicted_dialect': ''}\n"
     ]
    }
   ],
   "source": [
    "import json\n",
    "from datasets import Dataset\n",
    "\n",
    "# Load dataset (adjust path as needed)\n",
    "with open('/teamspace/studios/this_studio/nlp/arsarcasm_train.json', 'r', encoding='utf-8') as f:\n",
    "    data = json.load(f)  # For single JSON array\n",
    "\n",
    "dataset = Dataset.from_list(data)\n",
    "dataset = dataset.train_test_split(test_size=0.1)\n",
    "train_dataset = dataset[\"train\"]\n",
    "eval_dataset = dataset[\"test\"]\n",
    "\n",
    "print(f\"Training samples: {len(train_dataset)}\")\n",
    "print(f\"Evaluation samples: {len(eval_dataset)}\")\n",
    "print(\"Sample:\", train_dataset[0])"
   ]
  },
  {
   "cell_type": "code",
   "execution_count": 5,
   "metadata": {},
   "outputs": [
    {
     "name": "stdout",
     "output_type": "stream",
     "text": [
      "Total examples: 12549\n",
      "First example: {'input': 'يا أيها المغيبون', 'is_sarcastic': True, 'sentiment': 'NEG', 'dialect': 'msa', 'sarcasm_instruction': \"Analyze if the given Arabic text contains sarcasm. Return ONLY 'TRUE' or 'FALSE' with no additional text or explanation.\", 'sentiment_instruction': \"Classify the sentiment of the given Arabic text. Return ONLY one of these labels: 'POS', 'NEG', or 'NEU' with no additional text or explanation.\", 'dialect_instruction': \"Identify the Arabic dialect in the given text. Return ONLY one of these labels: 'msa', 'egypt', 'gulf', 'levant', or 'magreb' with no additional text or explanation.\", 'predicted_sarcasm': '', 'predicted_sentiment': '', 'predicted_dialect': ''}\n"
     ]
    }
   ],
   "source": [
    "print(f\"Total examples: {len(dataset['train']) + len(dataset['test'])}\")\n",
    "print(\"First example:\", dataset['train'][0])"
   ]
  },
  {
   "cell_type": "code",
   "execution_count": 6,
   "metadata": {},
   "outputs": [
    {
     "data": {
      "application/vnd.jupyter.widget-view+json": {
       "model_id": "87e2d814477a44f8a2d709be5bdd3ead",
       "version_major": 2,
       "version_minor": 0
      },
      "text/plain": [
       "Map:   0%|          | 0/11294 [00:00<?, ? examples/s]"
      ]
     },
     "metadata": {},
     "output_type": "display_data"
    },
    {
     "data": {
      "application/vnd.jupyter.widget-view+json": {
       "model_id": "89ea9a159fff4fc498e7c5d7c05ace6e",
       "version_major": 2,
       "version_minor": 0
      },
      "text/plain": [
       "Map:   0%|          | 0/1255 [00:00<?, ? examples/s]"
      ]
     },
     "metadata": {},
     "output_type": "display_data"
    }
   ],
   "source": [
    "# 4. Create multi-task prompt template\n",
    "def formatting_prompts_func(examples):\n",
    "    instructions = []\n",
    "    inputs = []\n",
    "    outputs = []\n",
    "    \n",
    "    for input_text, sarc_inst, sent_inst, dial_inst, sarcasm, sentiment, dialect in zip(\n",
    "        examples[\"input\"],\n",
    "        examples[\"sarcasm_instruction\"],\n",
    "        examples[\"sentiment_instruction\"],\n",
    "        examples[\"dialect_instruction\"],\n",
    "        examples[\"is_sarcastic\"],\n",
    "        examples[\"sentiment\"],\n",
    "        examples[\"dialect\"],\n",
    "    ):\n",
    "        # Combined instruction for all tasks\n",
    "        combined_instruction = (\n",
    "            f\"Perform all these tasks for the Arabic text:\\n\"\n",
    "            f\"1. {sarc_inst}\\n\"\n",
    "            f\"2. {sent_inst}\\n\"\n",
    "            f\"3. {dial_inst}\\n\\n\"\n",
    "            f\"Text: {input_text}\\n\\n\"\n",
    "            \"Respond with EXACTLY this format:\\n\"\n",
    "            \"Sarcasm: TRUE/FALSE\\n\"\n",
    "            \"Sentiment: POS/NEG/NEU\\n\"\n",
    "            \"Dialect: msa/egypt/gulf/levant/magreb\"\n",
    "        )\n",
    "        \n",
    "        # Combined output\n",
    "        combined_output = (\n",
    "            f\"Sarcasm: {'TRUE' if sarcasm else 'FALSE'}\\n\"\n",
    "            f\"Sentiment: {sentiment}\\n\"\n",
    "            f\"Dialect: {dialect}\"\n",
    "        )\n",
    "        \n",
    "        instructions.append(combined_instruction)\n",
    "        inputs.append(input_text)\n",
    "        outputs.append(combined_output)\n",
    "    \n",
    "    return {\"text\": [f\"### Instruction:\\n{i}\\n\\n### Input:\\n{x}\\n\\n### Response:\\n{y}\" \n",
    "                    for i, x, y in zip(instructions, inputs, outputs)]}\n",
    "\n",
    "# Apply formatting\n",
    "train_dataset = train_dataset.map(formatting_prompts_func, batched=True)\n",
    "eval_dataset = eval_dataset.map(formatting_prompts_func, batched=True)\n"
   ]
  },
  {
   "cell_type": "code",
   "execution_count": 8,
   "metadata": {},
   "outputs": [
    {
     "name": "stdout",
     "output_type": "stream",
     "text": [
      "==((====))==  Unsloth 2025.4.1: Fast Qwen3 patching. Transformers: 4.51.3. vLLM: 0.8.5.\n",
      "   \\\\   /|    NVIDIA L4. Num GPUs = 1. Max memory: 22.168 GB. Platform: Linux.\n",
      "O^O/ \\_/ \\    Torch: 2.6.0+cu124. CUDA: 8.9. CUDA Toolkit: 12.4. Triton: 3.2.0\n",
      "\\        /    Bfloat16 = TRUE. FA [Xformers = None. FA2 = False]\n",
      " \"-____-\"     Free license: http://github.com/unslothai/unsloth\n",
      "Unsloth: Fast downloading is enabled - ignore downloading bars which are red colored!\n"
     ]
    },
    {
     "data": {
      "application/vnd.jupyter.widget-view+json": {
       "model_id": "d6fd81d342a242b3bd077011f48fee51",
       "version_major": 2,
       "version_minor": 0
      },
      "text/plain": [
       "model.safetensors.index.json:   0%|          | 0.00/32.9k [00:00<?, ?B/s]"
      ]
     },
     "metadata": {},
     "output_type": "display_data"
    },
    {
     "data": {
      "application/vnd.jupyter.widget-view+json": {
       "model_id": "7c5234becdfe41cd84171f526cbdbf2a",
       "version_major": 2,
       "version_minor": 0
      },
      "text/plain": [
       "Fetching 4 files:   0%|          | 0/4 [00:00<?, ?it/s]"
      ]
     },
     "metadata": {},
     "output_type": "display_data"
    },
    {
     "data": {
      "application/vnd.jupyter.widget-view+json": {
       "model_id": "968e364c33e84247b77b4041d09affb4",
       "version_major": 2,
       "version_minor": 0
      },
      "text/plain": [
       "model-00002-of-00004.safetensors:   0%|          | 0.00/4.92G [00:00<?, ?B/s]"
      ]
     },
     "metadata": {},
     "output_type": "display_data"
    },
    {
     "data": {
      "application/vnd.jupyter.widget-view+json": {
       "model_id": "c1ef6165d587458182db144612d3d5cd",
       "version_major": 2,
       "version_minor": 0
      },
      "text/plain": [
       "model-00001-of-00004.safetensors:   0%|          | 0.00/4.90G [00:00<?, ?B/s]"
      ]
     },
     "metadata": {},
     "output_type": "display_data"
    },
    {
     "data": {
      "application/vnd.jupyter.widget-view+json": {
       "model_id": "b65efb8f32fd47b498b8a4a000160a00",
       "version_major": 2,
       "version_minor": 0
      },
      "text/plain": [
       "model-00003-of-00004.safetensors:   0%|          | 0.00/4.98G [00:00<?, ?B/s]"
      ]
     },
     "metadata": {},
     "output_type": "display_data"
    },
    {
     "data": {
      "application/vnd.jupyter.widget-view+json": {
       "model_id": "1c4ef02165274bc78c013b41b0cbf72a",
       "version_major": 2,
       "version_minor": 0
      },
      "text/plain": [
       "model-00004-of-00004.safetensors:   0%|          | 0.00/1.58G [00:00<?, ?B/s]"
      ]
     },
     "metadata": {},
     "output_type": "display_data"
    },
    {
     "data": {
      "application/vnd.jupyter.widget-view+json": {
       "model_id": "1530f4cba2794f1bb3d1966862ef020b",
       "version_major": 2,
       "version_minor": 0
      },
      "text/plain": [
       "Loading checkpoint shards:   0%|          | 0/4 [00:00<?, ?it/s]"
      ]
     },
     "metadata": {},
     "output_type": "display_data"
    },
    {
     "data": {
      "application/vnd.jupyter.widget-view+json": {
       "model_id": "d28f05f2f8db45f9824348c7bb18852b",
       "version_major": 2,
       "version_minor": 0
      },
      "text/plain": [
       "generation_config.json:   0%|          | 0.00/171 [00:00<?, ?B/s]"
      ]
     },
     "metadata": {},
     "output_type": "display_data"
    },
    {
     "data": {
      "application/vnd.jupyter.widget-view+json": {
       "model_id": "40f160253de44c13a40c9824097b80cc",
       "version_major": 2,
       "version_minor": 0
      },
      "text/plain": [
       "tokenizer_config.json:   0%|          | 0.00/4.71k [00:00<?, ?B/s]"
      ]
     },
     "metadata": {},
     "output_type": "display_data"
    },
    {
     "data": {
      "application/vnd.jupyter.widget-view+json": {
       "model_id": "5bfb498132614411929c6b9a3403ebc6",
       "version_major": 2,
       "version_minor": 0
      },
      "text/plain": [
       "vocab.json:   0%|          | 0.00/2.78M [00:00<?, ?B/s]"
      ]
     },
     "metadata": {},
     "output_type": "display_data"
    },
    {
     "data": {
      "application/vnd.jupyter.widget-view+json": {
       "model_id": "b97beaca2d404885b623183f5983d0d0",
       "version_major": 2,
       "version_minor": 0
      },
      "text/plain": [
       "merges.txt:   0%|          | 0.00/1.67M [00:00<?, ?B/s]"
      ]
     },
     "metadata": {},
     "output_type": "display_data"
    },
    {
     "data": {
      "application/vnd.jupyter.widget-view+json": {
       "model_id": "a2027f82294d4422bc9b6808cf74739a",
       "version_major": 2,
       "version_minor": 0
      },
      "text/plain": [
       "tokenizer.json:   0%|          | 0.00/11.4M [00:00<?, ?B/s]"
      ]
     },
     "metadata": {},
     "output_type": "display_data"
    },
    {
     "data": {
      "application/vnd.jupyter.widget-view+json": {
       "model_id": "7e1a4f6955ab4e0b940bb98904e9b25f",
       "version_major": 2,
       "version_minor": 0
      },
      "text/plain": [
       "added_tokens.json:   0%|          | 0.00/605 [00:00<?, ?B/s]"
      ]
     },
     "metadata": {},
     "output_type": "display_data"
    },
    {
     "data": {
      "application/vnd.jupyter.widget-view+json": {
       "model_id": "bda83a143ab945a0922a4907d38dac83",
       "version_major": 2,
       "version_minor": 0
      },
      "text/plain": [
       "special_tokens_map.json:   0%|          | 0.00/614 [00:00<?, ?B/s]"
      ]
     },
     "metadata": {},
     "output_type": "display_data"
    },
    {
     "name": "stdout",
     "output_type": "stream",
     "text": [
      "Unsloth: Making `model.base_model.model.model` require gradients\n"
     ]
    }
   ],
   "source": [
    "# 5. Load model\n",
    "from unsloth import FastLanguageModel\n",
    "import torch\n",
    "\n",
    "model, tokenizer = FastLanguageModel.from_pretrained(\n",
    "    \"unsloth/Qwen3-8B-Base\",\n",
    "    max_seq_length=2048,\n",
    "    dtype=None,\n",
    "    load_in_4bit=True,\n",
    ")\n",
    "\n",
    "# Add LoRA adapters\n",
    "model = FastLanguageModel.get_peft_model(\n",
    "    model,\n",
    "    r=16,\n",
    "    target_modules=[\"q_proj\", \"k_proj\", \"v_proj\", \"o_proj\",\n",
    "                  \"gate_proj\", \"up_proj\", \"down_proj\"],\n",
    "    lora_alpha=16,\n",
    "    lora_dropout=0,\n",
    "    bias=\"none\",\n",
    "    use_gradient_checkpointing=True,\n",
    "    random_state=3407,\n",
    "    max_seq_length=2048,\n",
    ")"
   ]
  },
  {
   "cell_type": "code",
   "execution_count": 10,
   "metadata": {},
   "outputs": [
    {
     "data": {
      "application/vnd.jupyter.widget-view+json": {
       "model_id": "a8e5eb186f704b7da928b84fd3fc6192",
       "version_major": 2,
       "version_minor": 0
      },
      "text/plain": [
       "Unsloth: Tokenizing [\"text\"] (num_proc=16):   0%|          | 0/11294 [00:00<?, ? examples/s]"
      ]
     },
     "metadata": {},
     "output_type": "display_data"
    },
    {
     "data": {
      "application/vnd.jupyter.widget-view+json": {
       "model_id": "71fb55e4abb34af1a4dff13d1f1e3d01",
       "version_major": 2,
       "version_minor": 0
      },
      "text/plain": [
       "Unsloth: Tokenizing [\"text\"] (num_proc=16):   0%|          | 0/1255 [00:00<?, ? examples/s]"
      ]
     },
     "metadata": {},
     "output_type": "display_data"
    }
   ],
   "source": [
    "# 6. Training setup\n",
    "from transformers import TrainingArguments\n",
    "\n",
    "trainer_args = TrainingArguments(\n",
    "    per_device_train_batch_size=4,               # Can try 5–6 if memory allows\n",
    "    gradient_accumulation_steps=2,               # Reduces total steps, speeds training\n",
    "    warmup_ratio=0.03,                           # Better for small training runs than fixed steps\n",
    "    max_steps=1000,\n",
    "    learning_rate=3e-5,                          # Slightly higher LR helps LoRA converge faster\n",
    "    fp16=False,\n",
    "    bf16=True,                                   # Use bf16 if supported (you have 24GB, so likely yes)\n",
    "    logging_steps=10,\n",
    "    optim=\"paged_adamw_8bit\",                    # More memory-efficient than adamw_8bit\n",
    "    weight_decay=0.05,                           # Slightly higher decay can help generalization\n",
    "    lr_scheduler_type=\"cosine\",                  # Often outperforms linear for longer runs\n",
    "    seed=3407,\n",
    "    output_dir=\"outputs\",\n",
    "    eval_strategy=\"steps\",\n",
    "    eval_steps=100,\n",
    "    save_strategy=\"steps\",\n",
    "    save_steps=100,\n",
    "    load_best_model_at_end=True,\n",
    "    report_to=\"none\",                            # Optional: avoid unnecessary logging overhead\n",
    "    save_total_limit=2,                          # Prevent filling disk\n",
    ")\n",
    "\n",
    "# 7. Create trainer\n",
    "from trl import SFTTrainer\n",
    "\n",
    "trainer = SFTTrainer(\n",
    "    model=model,\n",
    "    train_dataset=train_dataset,\n",
    "    eval_dataset=eval_dataset,\n",
    "    dataset_text_field=\"text\",\n",
    "    tokenizer=tokenizer,\n",
    "    args=trainer_args,\n",
    "    max_seq_length=1024,\n",
    ")\n"
   ]
  },
  {
   "cell_type": "code",
   "execution_count": 11,
   "metadata": {},
   "outputs": [
    {
     "name": "stderr",
     "output_type": "stream",
     "text": [
      "==((====))==  Unsloth - 2x faster free finetuning | Num GPUs used = 1\n",
      "   \\\\   /|    Num examples = 11,294 | Num Epochs = 1 | Total steps = 1,000\n",
      "O^O/ \\_/ \\    Batch size per device = 4 | Gradient accumulation steps = 2\n",
      "\\        /    Data Parallel GPUs = 1 | Total batch size (4 x 2 x 1) = 8\n",
      " \"-____-\"     Trainable parameters = 43,646,976/8,000,000,000 (0.55% trained)\n",
      "`use_cache=True` is incompatible with gradient checkpointing. Setting `use_cache=False`.\n"
     ]
    },
    {
     "name": "stdout",
     "output_type": "stream",
     "text": [
      "Unsloth: Will smartly offload gradients to save VRAM!\n"
     ]
    },
    {
     "data": {
      "text/html": [
       "\n",
       "    <div>\n",
       "      \n",
       "      <progress value='1000' max='1000' style='width:300px; height:20px; vertical-align: middle;'></progress>\n",
       "      [1000/1000 1:24:06, Epoch 0/1]\n",
       "    </div>\n",
       "    <table border=\"1\" class=\"dataframe\">\n",
       "  <thead>\n",
       " <tr style=\"text-align: left;\">\n",
       "      <th>Step</th>\n",
       "      <th>Training Loss</th>\n",
       "      <th>Validation Loss</th>\n",
       "    </tr>\n",
       "  </thead>\n",
       "  <tbody>\n",
       "    <tr>\n",
       "      <td>100</td>\n",
       "      <td>0.513600</td>\n",
       "      <td>0.483067</td>\n",
       "    </tr>\n",
       "    <tr>\n",
       "      <td>200</td>\n",
       "      <td>0.459300</td>\n",
       "      <td>0.462453</td>\n",
       "    </tr>\n",
       "    <tr>\n",
       "      <td>300</td>\n",
       "      <td>0.462200</td>\n",
       "      <td>0.459636</td>\n",
       "    </tr>\n",
       "    <tr>\n",
       "      <td>400</td>\n",
       "      <td>0.490000</td>\n",
       "      <td>0.458164</td>\n",
       "    </tr>\n",
       "    <tr>\n",
       "      <td>500</td>\n",
       "      <td>0.448500</td>\n",
       "      <td>0.454715</td>\n",
       "    </tr>\n",
       "    <tr>\n",
       "      <td>600</td>\n",
       "      <td>0.451100</td>\n",
       "      <td>0.452808</td>\n",
       "    </tr>\n",
       "    <tr>\n",
       "      <td>700</td>\n",
       "      <td>0.468800</td>\n",
       "      <td>0.451833</td>\n",
       "    </tr>\n",
       "    <tr>\n",
       "      <td>800</td>\n",
       "      <td>0.496800</td>\n",
       "      <td>0.450714</td>\n",
       "    </tr>\n",
       "    <tr>\n",
       "      <td>900</td>\n",
       "      <td>0.495200</td>\n",
       "      <td>0.450282</td>\n",
       "    </tr>\n",
       "    <tr>\n",
       "      <td>1000</td>\n",
       "      <td>0.455100</td>\n",
       "      <td>0.450654</td>\n",
       "    </tr>\n",
       "  </tbody>\n",
       "</table><p>"
      ],
      "text/plain": [
       "<IPython.core.display.HTML object>"
      ]
     },
     "metadata": {},
     "output_type": "display_data"
    },
    {
     "name": "stderr",
     "output_type": "stream",
     "text": [
      "Unsloth: Not an error, but Qwen3ForCausalLM does not accept `num_items_in_batch`.\n",
      "Using gradient accumulation will be very slightly less accurate.\n",
      "Read more on gradient accumulation issues here: https://unsloth.ai/blog/gradient\n"
     ]
    },
    {
     "data": {
      "text/plain": [
       "('qwen3_arabic_multitask/tokenizer_config.json',\n",
       " 'qwen3_arabic_multitask/special_tokens_map.json',\n",
       " 'qwen3_arabic_multitask/vocab.json',\n",
       " 'qwen3_arabic_multitask/merges.txt',\n",
       " 'qwen3_arabic_multitask/added_tokens.json',\n",
       " 'qwen3_arabic_multitask/tokenizer.json')"
      ]
     },
     "execution_count": 11,
     "metadata": {},
     "output_type": "execute_result"
    }
   ],
   "source": [
    "# 8. Train!\n",
    "trainer.train()\n",
    "\n",
    "# 9. Save model\n",
    "model.save_pretrained(\"qwen3_arabic_multitask\")\n",
    "tokenizer.save_pretrained(\"qwen3_arabic_multitask\")"
   ]
  },
  {
   "cell_type": "code",
   "execution_count": 12,
   "metadata": {},
   "outputs": [
    {
     "data": {
      "application/vnd.jupyter.widget-view+json": {
       "model_id": "7f9801ba022a4aa3aa38affaa35b131d",
       "version_major": 2,
       "version_minor": 0
      },
      "text/plain": [
       "VBox(children=(HTML(value='<center> <img\\nsrc=https://huggingface.co/front/assets/huggingface_logo-noborder.sv…"
      ]
     },
     "metadata": {},
     "output_type": "display_data"
    },
    {
     "name": "stderr",
     "output_type": "stream",
     "text": [
      "Token has not been saved to git credential helper.\n"
     ]
    }
   ],
   "source": [
    "# 1. First authenticate with Hugging Face\n",
    "from huggingface_hub import notebook_login\n",
    "notebook_login()"
   ]
  },
  {
   "cell_type": "code",
   "execution_count": 13,
   "metadata": {},
   "outputs": [
    {
     "data": {
      "application/vnd.jupyter.widget-view+json": {
       "model_id": "a89f6cc12b4f4458ac7b08c541cca935",
       "version_major": 2,
       "version_minor": 0
      },
      "text/plain": [
       "README.md:   0%|          | 0.00/568 [00:00<?, ?B/s]"
      ]
     },
     "metadata": {},
     "output_type": "display_data"
    },
    {
     "data": {
      "application/vnd.jupyter.widget-view+json": {
       "model_id": "6b924aa7764c4162bc8c290065615b7f",
       "version_major": 2,
       "version_minor": 0
      },
      "text/plain": [
       "adapter_model.safetensors:   0%|          | 0.00/175M [00:00<?, ?B/s]"
      ]
     },
     "metadata": {},
     "output_type": "display_data"
    },
    {
     "name": "stdout",
     "output_type": "stream",
     "text": [
      "Saved model to https://huggingface.co/omarwaleed523/qwen3-8b-arabic-multitask\n"
     ]
    },
    {
     "data": {
      "application/vnd.jupyter.widget-view+json": {
       "model_id": "aa902ae0393e41ac8bd2dc9a7e95f3bd",
       "version_major": 2,
       "version_minor": 0
      },
      "text/plain": [
       "tokenizer.json:   0%|          | 0.00/11.4M [00:00<?, ?B/s]"
      ]
     },
     "metadata": {},
     "output_type": "display_data"
    },
    {
     "name": "stdout",
     "output_type": "stream",
     "text": [
      "Model successfully pushed to: https://huggingface.co/omarwaleed523/qwen3-8b-arabic-multitask\n"
     ]
    }
   ],
   "source": [
    "# 2. Push model and tokenizer to public repository\n",
    "model.push_to_hub(\n",
    "    \"omarwaleed523/qwen3-8b-arabic-multitask\",\n",
    "    private=False,  # Make repository public\n",
    "    create_pr=False,  # Directly push to main (since new repo)\n",
    ")\n",
    "\n",
    "tokenizer.push_to_hub(\n",
    "    \"omarwaleed523/qwen3-8b-arabic-multitask\",\n",
    "    private=False,\n",
    "    create_pr=False,\n",
    ")\n",
    "\n",
    "print(\"Model successfully pushed to: https://huggingface.co/omarwaleed523/qwen3-8b-arabic-multitask\")"
   ]
  },
  {
   "cell_type": "code",
   "execution_count": 3,
   "metadata": {},
   "outputs": [
    {
     "name": "stdout",
     "output_type": "stream",
     "text": [
      "\u001b[33mWARNING: Ignoring invalid distribution -riton (/system/conda/miniconda3/envs/cloudspace/lib/python3.10/site-packages)\u001b[0m\u001b[33m\n",
      "\u001b[0mRequirement already satisfied: seaborn in /system/conda/miniconda3/envs/cloudspace/lib/python3.10/site-packages (0.13.2)\n",
      "Requirement already satisfied: numpy!=1.24.0,>=1.20 in /system/conda/miniconda3/envs/cloudspace/lib/python3.10/site-packages (from seaborn) (1.26.4)\n",
      "Requirement already satisfied: pandas>=1.2 in /system/conda/miniconda3/envs/cloudspace/lib/python3.10/site-packages (from seaborn) (2.1.4)\n",
      "Requirement already satisfied: matplotlib!=3.6.1,>=3.4 in /system/conda/miniconda3/envs/cloudspace/lib/python3.10/site-packages (from seaborn) (3.8.2)\n",
      "Requirement already satisfied: contourpy>=1.0.1 in /system/conda/miniconda3/envs/cloudspace/lib/python3.10/site-packages (from matplotlib!=3.6.1,>=3.4->seaborn) (1.3.1)\n",
      "Requirement already satisfied: cycler>=0.10 in /system/conda/miniconda3/envs/cloudspace/lib/python3.10/site-packages (from matplotlib!=3.6.1,>=3.4->seaborn) (0.12.1)\n",
      "Requirement already satisfied: fonttools>=4.22.0 in /system/conda/miniconda3/envs/cloudspace/lib/python3.10/site-packages (from matplotlib!=3.6.1,>=3.4->seaborn) (4.55.8)\n",
      "Requirement already satisfied: kiwisolver>=1.3.1 in /system/conda/miniconda3/envs/cloudspace/lib/python3.10/site-packages (from matplotlib!=3.6.1,>=3.4->seaborn) (1.4.8)\n",
      "Requirement already satisfied: packaging>=20.0 in /system/conda/miniconda3/envs/cloudspace/lib/python3.10/site-packages (from matplotlib!=3.6.1,>=3.4->seaborn) (24.2)\n",
      "Requirement already satisfied: pillow>=8 in /system/conda/miniconda3/envs/cloudspace/lib/python3.10/site-packages (from matplotlib!=3.6.1,>=3.4->seaborn) (11.1.0)\n",
      "Requirement already satisfied: pyparsing>=2.3.1 in /system/conda/miniconda3/envs/cloudspace/lib/python3.10/site-packages (from matplotlib!=3.6.1,>=3.4->seaborn) (3.2.1)\n",
      "Requirement already satisfied: python-dateutil>=2.7 in /system/conda/miniconda3/envs/cloudspace/lib/python3.10/site-packages (from matplotlib!=3.6.1,>=3.4->seaborn) (2.9.0.post0)\n",
      "Requirement already satisfied: pytz>=2020.1 in /system/conda/miniconda3/envs/cloudspace/lib/python3.10/site-packages (from pandas>=1.2->seaborn) (2025.1)\n",
      "Requirement already satisfied: tzdata>=2022.1 in /system/conda/miniconda3/envs/cloudspace/lib/python3.10/site-packages (from pandas>=1.2->seaborn) (2025.1)\n",
      "Requirement already satisfied: six>=1.5 in /system/conda/miniconda3/envs/cloudspace/lib/python3.10/site-packages (from python-dateutil>=2.7->matplotlib!=3.6.1,>=3.4->seaborn) (1.17.0)\n",
      "\u001b[33mWARNING: Ignoring invalid distribution -riton (/system/conda/miniconda3/envs/cloudspace/lib/python3.10/site-packages)\u001b[0m\u001b[33m\n",
      "\u001b[0m\u001b[33mWARNING: Ignoring invalid distribution -riton (/system/conda/miniconda3/envs/cloudspace/lib/python3.10/site-packages)\u001b[0m\u001b[33m\n",
      "\u001b[0m"
     ]
    }
   ],
   "source": [
    "!pip install seaborn"
   ]
  },
  {
   "cell_type": "code",
   "execution_count": 1,
   "metadata": {},
   "outputs": [
    {
     "name": "stdout",
     "output_type": "stream",
     "text": [
      "\u001b[33mWARNING: Ignoring invalid distribution -riton (/system/conda/miniconda3/envs/cloudspace/lib/python3.10/site-packages)\u001b[0m\u001b[33m\n",
      "\u001b[0mRequirement already satisfied: accelerate in /system/conda/miniconda3/envs/cloudspace/lib/python3.10/site-packages (1.4.0)\n",
      "Requirement already satisfied: numpy<3.0.0,>=1.17 in /system/conda/miniconda3/envs/cloudspace/lib/python3.10/site-packages (from accelerate) (1.26.4)\n",
      "Requirement already satisfied: packaging>=20.0 in /system/conda/miniconda3/envs/cloudspace/lib/python3.10/site-packages (from accelerate) (24.2)\n",
      "Requirement already satisfied: psutil in /system/conda/miniconda3/envs/cloudspace/lib/python3.10/site-packages (from accelerate) (6.1.1)\n",
      "Requirement already satisfied: pyyaml in /system/conda/miniconda3/envs/cloudspace/lib/python3.10/site-packages (from accelerate) (6.0.2)\n",
      "Requirement already satisfied: torch>=2.0.0 in /system/conda/miniconda3/envs/cloudspace/lib/python3.10/site-packages (from accelerate) (2.6.0)\n",
      "Requirement already satisfied: huggingface-hub>=0.21.0 in /system/conda/miniconda3/envs/cloudspace/lib/python3.10/site-packages (from accelerate) (0.30.2)\n",
      "Requirement already satisfied: safetensors>=0.4.3 in /system/conda/miniconda3/envs/cloudspace/lib/python3.10/site-packages (from accelerate) (0.5.3)\n",
      "Requirement already satisfied: filelock in /system/conda/miniconda3/envs/cloudspace/lib/python3.10/site-packages (from huggingface-hub>=0.21.0->accelerate) (3.17.0)\n",
      "Requirement already satisfied: fsspec>=2023.5.0 in /system/conda/miniconda3/envs/cloudspace/lib/python3.10/site-packages (from huggingface-hub>=0.21.0->accelerate) (2024.12.0)\n",
      "Requirement already satisfied: requests in /system/conda/miniconda3/envs/cloudspace/lib/python3.10/site-packages (from huggingface-hub>=0.21.0->accelerate) (2.32.3)\n",
      "Requirement already satisfied: tqdm>=4.42.1 in /system/conda/miniconda3/envs/cloudspace/lib/python3.10/site-packages (from huggingface-hub>=0.21.0->accelerate) (4.67.1)\n",
      "Requirement already satisfied: typing-extensions>=3.7.4.3 in /system/conda/miniconda3/envs/cloudspace/lib/python3.10/site-packages (from huggingface-hub>=0.21.0->accelerate) (4.12.2)\n",
      "Requirement already satisfied: networkx in /system/conda/miniconda3/envs/cloudspace/lib/python3.10/site-packages (from torch>=2.0.0->accelerate) (3.4.2)\n",
      "Requirement already satisfied: jinja2 in /system/conda/miniconda3/envs/cloudspace/lib/python3.10/site-packages (from torch>=2.0.0->accelerate) (3.1.5)\n",
      "Requirement already satisfied: nvidia-cuda-nvrtc-cu12==12.4.127 in /system/conda/miniconda3/envs/cloudspace/lib/python3.10/site-packages (from torch>=2.0.0->accelerate) (12.4.127)\n",
      "Requirement already satisfied: nvidia-cuda-runtime-cu12==12.4.127 in /system/conda/miniconda3/envs/cloudspace/lib/python3.10/site-packages (from torch>=2.0.0->accelerate) (12.4.127)\n",
      "Requirement already satisfied: nvidia-cuda-cupti-cu12==12.4.127 in /system/conda/miniconda3/envs/cloudspace/lib/python3.10/site-packages (from torch>=2.0.0->accelerate) (12.4.127)\n",
      "Requirement already satisfied: nvidia-cudnn-cu12==9.1.0.70 in /system/conda/miniconda3/envs/cloudspace/lib/python3.10/site-packages (from torch>=2.0.0->accelerate) (9.1.0.70)\n",
      "Requirement already satisfied: nvidia-cublas-cu12==12.4.5.8 in /system/conda/miniconda3/envs/cloudspace/lib/python3.10/site-packages (from torch>=2.0.0->accelerate) (12.4.5.8)\n",
      "Requirement already satisfied: nvidia-cufft-cu12==11.2.1.3 in /system/conda/miniconda3/envs/cloudspace/lib/python3.10/site-packages (from torch>=2.0.0->accelerate) (11.2.1.3)\n",
      "Requirement already satisfied: nvidia-curand-cu12==10.3.5.147 in /system/conda/miniconda3/envs/cloudspace/lib/python3.10/site-packages (from torch>=2.0.0->accelerate) (10.3.5.147)\n",
      "Requirement already satisfied: nvidia-cusolver-cu12==11.6.1.9 in /system/conda/miniconda3/envs/cloudspace/lib/python3.10/site-packages (from torch>=2.0.0->accelerate) (11.6.1.9)\n",
      "Requirement already satisfied: nvidia-cusparse-cu12==12.3.1.170 in /system/conda/miniconda3/envs/cloudspace/lib/python3.10/site-packages (from torch>=2.0.0->accelerate) (12.3.1.170)\n",
      "Requirement already satisfied: nvidia-cusparselt-cu12==0.6.2 in /system/conda/miniconda3/envs/cloudspace/lib/python3.10/site-packages (from torch>=2.0.0->accelerate) (0.6.2)\n",
      "Requirement already satisfied: nvidia-nccl-cu12==2.21.5 in /system/conda/miniconda3/envs/cloudspace/lib/python3.10/site-packages (from torch>=2.0.0->accelerate) (2.21.5)\n",
      "Requirement already satisfied: nvidia-nvtx-cu12==12.4.127 in /system/conda/miniconda3/envs/cloudspace/lib/python3.10/site-packages (from torch>=2.0.0->accelerate) (12.4.127)\n",
      "Requirement already satisfied: nvidia-nvjitlink-cu12==12.4.127 in /system/conda/miniconda3/envs/cloudspace/lib/python3.10/site-packages (from torch>=2.0.0->accelerate) (12.4.127)\n",
      "Requirement already satisfied: triton==3.2.0 in /system/conda/miniconda3/envs/cloudspace/lib/python3.10/site-packages (from torch>=2.0.0->accelerate) (3.2.0)\n",
      "Requirement already satisfied: sympy==1.13.1 in /system/conda/miniconda3/envs/cloudspace/lib/python3.10/site-packages (from torch>=2.0.0->accelerate) (1.13.1)\n",
      "Requirement already satisfied: mpmath<1.4,>=1.1.0 in /system/conda/miniconda3/envs/cloudspace/lib/python3.10/site-packages (from sympy==1.13.1->torch>=2.0.0->accelerate) (1.3.0)\n",
      "Requirement already satisfied: MarkupSafe>=2.0 in /system/conda/miniconda3/envs/cloudspace/lib/python3.10/site-packages (from jinja2->torch>=2.0.0->accelerate) (3.0.2)\n",
      "Requirement already satisfied: charset-normalizer<4,>=2 in /system/conda/miniconda3/envs/cloudspace/lib/python3.10/site-packages (from requests->huggingface-hub>=0.21.0->accelerate) (3.4.1)\n",
      "Requirement already satisfied: idna<4,>=2.5 in /system/conda/miniconda3/envs/cloudspace/lib/python3.10/site-packages (from requests->huggingface-hub>=0.21.0->accelerate) (3.10)\n",
      "Requirement already satisfied: urllib3<3,>=1.21.1 in /system/conda/miniconda3/envs/cloudspace/lib/python3.10/site-packages (from requests->huggingface-hub>=0.21.0->accelerate) (2.3.0)\n",
      "Requirement already satisfied: certifi>=2017.4.17 in /system/conda/miniconda3/envs/cloudspace/lib/python3.10/site-packages (from requests->huggingface-hub>=0.21.0->accelerate) (2025.1.31)\n",
      "\u001b[33mWARNING: Ignoring invalid distribution -riton (/system/conda/miniconda3/envs/cloudspace/lib/python3.10/site-packages)\u001b[0m\u001b[33m\n",
      "\u001b[0m\u001b[33mWARNING: Ignoring invalid distribution -riton (/system/conda/miniconda3/envs/cloudspace/lib/python3.10/site-packages)\u001b[0m\u001b[33m\n",
      "\u001b[0mNote: you may need to restart the kernel to use updated packages.\n"
     ]
    }
   ],
   "source": [
    "pip install accelerate"
   ]
  },
  {
   "cell_type": "code",
   "execution_count": 1,
   "metadata": {},
   "outputs": [],
   "source": [
    "import torch\n",
    "from transformers import AutoTokenizer, AutoModelForCausalLM\n",
    "from accelerate import Accelerator\n",
    "from datasets import Dataset\n",
    "import json\n",
    "import re\n",
    "from tqdm import tqdm\n",
    "import seaborn as sns\n",
    "import matplotlib.pyplot as plt\n",
    "from sklearn.metrics import confusion_matrix, classification_report, f1_score"
   ]
  },
  {
   "cell_type": "code",
   "execution_count": 2,
   "metadata": {},
   "outputs": [
    {
     "data": {
      "application/vnd.jupyter.widget-view+json": {
       "model_id": "1d9210f8d67a443aae2f82ffbfacba2f",
       "version_major": 2,
       "version_minor": 0
      },
      "text/plain": [
       "Loading checkpoint shards:   0%|          | 0/4 [00:00<?, ?it/s]"
      ]
     },
     "metadata": {},
     "output_type": "display_data"
    }
   ],
   "source": [
    "# Initialize Accelerator for multi-device or efficient model handling\n",
    "accelerator = Accelerator()\n",
    "\n",
    "# Load tokenizer and model with mixed precision (FP16) and device placement\n",
    "model_name = 'omarwaleed523/qwen3-8b-arabic-multitask'\n",
    "\n",
    "tokenizer = AutoTokenizer.from_pretrained(model_name, padding_side='left')  # Set padding_side='left'\n",
    "model = AutoModelForCausalLM.from_pretrained(model_name, torch_dtype=torch.float16).to(\"cuda\")\n",
    "\n",
    "# Prepare model with Accelerator for efficient inference\n",
    "model = accelerator.prepare(model)"
   ]
  },
  {
   "cell_type": "code",
   "execution_count": 3,
   "metadata": {},
   "outputs": [
    {
     "name": "stdout",
     "output_type": "stream",
     "text": [
      "Test samples: 3000\n",
      "Sample: {'input': 'اخوي حانق يالغلا وشفيك معصب عادي تراهم بشر يفطرون الصبح قلابة وتميس تيك ات ايزي مان', 'is_sarcastic': False, 'sentiment': 'NEG', 'dialect': 'msa', 'sarcasm_instruction': \"Analyze if the given Arabic text contains sarcasm. Return ONLY 'TRUE' or 'FALSE' with no additional text or explanation.\", 'sentiment_instruction': \"Classify the sentiment of the given Arabic text. Return ONLY one of these labels: 'POS', 'NEG', or 'NEU' with no additional text or explanation.\", 'dialect_instruction': \"Identify the Arabic dialect in the given text. Return ONLY one of these labels: 'msa', 'egypt', 'gulf', 'levant', or 'magreb' with no additional text or explanation.\", 'predicted_sarcasm': '', 'predicted_sentiment': '', 'predicted_dialect': ''}\n"
     ]
    }
   ],
   "source": [
    "# Load test dataset\n",
    "with open('/teamspace/studios/this_studio/nlp/arsarcasm_test.json', 'r', encoding='utf-8') as f:\n",
    "    test_data = json.load(f)\n",
    "\n",
    "test_dataset = Dataset.from_list(test_data)\n",
    "print(f\"Test samples: {len(test_dataset)}\")\n",
    "print(\"Sample:\", test_dataset[0])"
   ]
  },
  {
   "cell_type": "code",
   "execution_count": 4,
   "metadata": {},
   "outputs": [
    {
     "data": {
      "application/vnd.jupyter.widget-view+json": {
       "model_id": "45b4ea7a9b6b4c03956f5909f5f803ed",
       "version_major": 2,
       "version_minor": 0
      },
      "text/plain": [
       "Map:   0%|          | 0/3000 [00:00<?, ? examples/s]"
      ]
     },
     "metadata": {},
     "output_type": "display_data"
    },
    {
     "name": "stdout",
     "output_type": "stream",
     "text": [
      "{'input': 'اخوي حانق يالغلا وشفيك معصب عادي تراهم بشر يفطرون الصبح قلابة وتميس تيك ات ايزي مان', 'is_sarcastic': False, 'sentiment': 'NEG', 'dialect': 'msa', 'sarcasm_instruction': \"Analyze if the given Arabic text contains sarcasm. Return ONLY 'TRUE' or 'FALSE' with no additional text or explanation.\", 'sentiment_instruction': \"Classify the sentiment of the given Arabic text. Return ONLY one of these labels: 'POS', 'NEG', or 'NEU' with no additional text or explanation.\", 'dialect_instruction': \"Identify the Arabic dialect in the given text. Return ONLY one of these labels: 'msa', 'egypt', 'gulf', 'levant', or 'magreb' with no additional text or explanation.\", 'predicted_sarcasm': '', 'predicted_sentiment': '', 'predicted_dialect': '', 'prompt': \"### Instruction:\\nPerform all these tasks for the Arabic text:\\n1. Analyze if the given Arabic text contains sarcasm. Return ONLY 'TRUE' or 'FALSE' with no additional text or explanation.\\n2. Classify the sentiment of the given Arabic text. Return ONLY one of these labels: 'POS', 'NEG', or 'NEU' with no additional text or explanation.\\n3. Identify the Arabic dialect in the given text. Return ONLY one of these labels: 'msa', 'egypt', 'gulf', 'levant', or 'magreb' with no additional text or explanation.\\n\\nRespond with EXACTLY this format:\\nSarcasm: TRUE/FALSE\\nSentiment: POS/NEG/NEU\\nDialect: msa/egypt/gulf/levant/magreb\\n\\n### Input:\\nاخوي حانق يالغلا وشفيك معصب عادي تراهم بشر يفطرون الصبح قلابة وتميس تيك ات ايزي مان\\n\\n### Response:\\n\"}\n"
     ]
    }
   ],
   "source": [
    "# Alpaca-style prompt template \n",
    "alpaca_prompt = \"\"\"### Instruction:\n",
    "{instruction}\n",
    "\n",
    "### Input:\n",
    "{input}\n",
    "\n",
    "### Response:\n",
    "\"\"\"\n",
    "\n",
    "def create_prompt(examples):\n",
    "    prompts = []\n",
    "    for input_text, sarc_inst, sent_inst, dial_inst in zip(\n",
    "        examples[\"input\"],\n",
    "        examples[\"sarcasm_instruction\"],\n",
    "        examples[\"sentiment_instruction\"],\n",
    "        examples[\"dialect_instruction\"],\n",
    "    ):\n",
    "        # Combine instructions for all tasks\n",
    "        combined_instruction = (\n",
    "            f\"Perform all these tasks for the Arabic text:\\n\"\n",
    "            f\"1. {sarc_inst}\\n\"\n",
    "            f\"2. {sent_inst}\\n\"\n",
    "            f\"3. {dial_inst}\\n\\n\"\n",
    "            \"Respond with EXACTLY this format:\\n\"\n",
    "            \"Sarcasm: TRUE/FALSE\\n\"\n",
    "            \"Sentiment: POS/NEG/NEU\\n\"\n",
    "            \"Dialect: msa/egypt/gulf/levant/magreb\"\n",
    "        )\n",
    "        \n",
    "        # Create the full prompt\n",
    "        prompt = alpaca_prompt.format(instruction=combined_instruction, input=input_text, output=\"\")\n",
    "        prompts.append(prompt)\n",
    "    \n",
    "    return {\"prompt\": prompts}\n",
    "\n",
    "# Apply the prompt formatting to the test dataset and ensure it's done in batch\n",
    "test_dataset = test_dataset.map(create_prompt, batched=True)\n",
    "\n",
    "# Check the output structure\n",
    "print(test_dataset[0])  # Verify that \"prompt\" key is present"
   ]
  },
  {
   "cell_type": "code",
   "execution_count": 5,
   "metadata": {},
   "outputs": [],
   "source": [
    "# Function to clean the 'human' suffix from dialect predictions\n",
    "def clean_dialect(dialect):\n",
    "    return re.sub(r'(?i)human$', '', dialect)  # Remove 'human' regardless of case\n",
    "\n",
    "# Optimized inference function with batch processing\n",
    "def batch_inference(test_dataset, batch_size=8):\n",
    "    batched_input = [sample[\"prompt\"] for sample in test_dataset]  # Extract \"prompt\" from the dataset\n",
    "    num_batches = len(batched_input) // batch_size + (len(batched_input) % batch_size != 0)\n",
    "\n",
    "    predictions = []\n",
    "    for i in tqdm(range(num_batches), desc=\"Inference Progress\", unit=\"batch\"):\n",
    "        batch_input = batched_input[i * batch_size: (i + 1) * batch_size]\n",
    "        inputs = tokenizer(batch_input, return_tensors=\"pt\", padding=True, truncation=True).to(\"cuda\")\n",
    "\n",
    "        with torch.no_grad():\n",
    "            outputs = model.generate(**inputs, max_new_tokens=64, use_cache=True)\n",
    "        decoded_output = tokenizer.batch_decode(outputs, skip_special_tokens=True)\n",
    "\n",
    "        # Clean predictions and store\n",
    "        for output in decoded_output:\n",
    "            sarcasm, sentiment, dialect = parse_model_output(output)\n",
    "            predictions.append((sarcasm, sentiment, clean_dialect(dialect)))\n",
    "    \n",
    "    return predictions\n",
    "\n",
    "# Function to parse model output\n",
    "def parse_model_output(output):\n",
    "    # Initialize default values\n",
    "    sarcasm, sentiment, dialect = \"ERROR\", \"ERROR\", \"ERROR\"\n",
    "    \n",
    "    # Split the output into lines\n",
    "    lines = output.split(\"\\n\")\n",
    "    \n",
    "    # Extract values based on keywords\n",
    "    for line in lines:\n",
    "        if line.startswith(\"Sarcasm:\"):\n",
    "            sarcasm = line.split(\"Sarcasm:\")[1].strip()\n",
    "        elif line.startswith(\"Sentiment:\"):\n",
    "            sentiment = line.split(\"Sentiment:\")[1].strip()\n",
    "        elif line.startswith(\"Dialect:\"):\n",
    "            dialect = line.split(\":\")[1].strip()\n",
    "    \n",
    "    return sarcasm, sentiment, dialect\n"
   ]
  },
  {
   "cell_type": "code",
   "execution_count": 6,
   "metadata": {},
   "outputs": [
    {
     "name": "stderr",
     "output_type": "stream",
     "text": [
      "Inference Progress:   0%|          | 0/375 [00:00<?, ?batch/s]"
     ]
    },
    {
     "name": "stderr",
     "output_type": "stream",
     "text": [
      "Inference Progress: 100%|██████████| 375/375 [27:27<00:00,  4.39s/batch]\n"
     ]
    }
   ],
   "source": [
    "# Run inference on the full dataset\n",
    "predictions = batch_inference(test_dataset, batch_size=8)"
   ]
  },
  {
   "cell_type": "code",
   "execution_count": 7,
   "metadata": {},
   "outputs": [
    {
     "name": "stdout",
     "output_type": "stream",
     "text": [
      "Sarcasm Confusion Matrix:\n"
     ]
    },
    {
     "data": {
      "image/png": "[encoded data removed]",
      "text/plain": [
       "<Figure size 800x600 with 2 Axes>"
      ]
     },
     "metadata": {},
     "output_type": "display_data"
    },
    {
     "name": "stdout",
     "output_type": "stream",
     "text": [
      "Sarcasm Classification Report:\n",
      "              precision    recall  f1-score   support\n",
      "\n",
      "       false       0.79      0.92      0.85      2179\n",
      "        true       0.62      0.36      0.45       821\n",
      "\n",
      "    accuracy                           0.77      3000\n",
      "   macro avg       0.71      0.64      0.65      3000\n",
      "weighted avg       0.75      0.77      0.74      3000\n",
      "\n",
      "Sarcasm Overall F1 Score: 0.74\n",
      "Sentiment Confusion Matrix:\n"
     ]
    },
    {
     "data": {
      "image/png": "[encoded data removed]",
      "text/plain": [
       "<Figure size 800x600 with 2 Axes>"
      ]
     },
     "metadata": {},
     "output_type": "display_data"
    },
    {
     "name": "stdout",
     "output_type": "stream",
     "text": [
      "Sentiment Classification Report:\n",
      "              precision    recall  f1-score   support\n",
      "\n",
      "         pos       0.65      0.55      0.60       575\n",
      "         neg       0.80      0.61      0.69      1677\n",
      "         neu       0.41      0.69      0.51       748\n",
      "\n",
      "    accuracy                           0.62      3000\n",
      "   macro avg       0.62      0.61      0.60      3000\n",
      "weighted avg       0.68      0.62      0.63      3000\n",
      "\n",
      "Sentiment Overall F1 Score: 0.63\n",
      "Dialect Confusion Matrix:\n"
     ]
    },
    {
     "data": {
      "image/png": "[encoded data removed]",
      "text/plain": [
       "<Figure size 800x600 with 2 Axes>"
      ]
     },
     "metadata": {},
     "output_type": "display_data"
    },
    {
     "name": "stdout",
     "output_type": "stream",
     "text": [
      "Dialect Classification Report:\n",
      "              precision    recall  f1-score   support\n",
      "\n",
      "         msa       0.85      0.72      0.78      2323\n",
      "       egypt       0.25      0.74      0.37       306\n",
      "        gulf       0.22      0.10      0.13       322\n",
      "      levant       0.00      0.00      0.00        47\n",
      "      magreb       0.00      0.00      0.00         2\n",
      "\n",
      "    accuracy                           0.64      3000\n",
      "   macro avg       0.27      0.31      0.26      3000\n",
      "weighted avg       0.71      0.64      0.66      3000\n",
      "\n",
      "Dialect Overall F1 Score: 0.66\n"
     ]
    }
   ],
   "source": [
    "# Extract true labels for comparison\n",
    "true_labels = [\n",
    "    (\"TRUE\" if sample[\"is_sarcastic\"] else \"FALSE\", sample[\"sentiment\"], sample[\"dialect\"])\n",
    "    for sample in test_dataset\n",
    "]\n",
    "\n",
    "# Normalize values to handle case-insensitivity\n",
    "true_labels = [(sarc.lower(), sent.lower(), dial.lower()) for sarc, sent, dial in true_labels]\n",
    "predictions = [(sarc.lower(), sent.lower(), dial.lower()) for sarc, sent, dial in predictions]\n",
    "\n",
    "# Separate filtered predictions and true labels for each task\n",
    "true_sarcasm, pred_sarcasm = zip(*[(true[0], pred[0]) for true, pred in zip(true_labels, predictions)])\n",
    "true_sentiment, pred_sentiment = zip(*[(true[1], pred[1]) for true, pred in zip(true_labels, predictions)])\n",
    "true_dialect, pred_dialect = zip(*[(true[2], pred[2]) for true, pred in zip(true_labels, predictions)])\n",
    "\n",
    "# Specify all possible labels for each task\n",
    "sarcasm_labels = [\"false\", \"true\"]\n",
    "sentiment_labels = [\"pos\", \"neg\", \"neu\"]\n",
    "dialect_labels = [\"msa\", \"egypt\", \"gulf\", \"levant\", \"magreb\"]\n",
    "\n",
    "# Function to plot confusion matrix using Seaborn\n",
    "def plot_confusion_matrix(true_labels, pred_labels, labels, title):\n",
    "    cm = confusion_matrix(true_labels, pred_labels, labels=labels)\n",
    "    plt.figure(figsize=(8, 6))\n",
    "    sns.heatmap(cm, annot=True, fmt=\"d\", cmap=\"Blues\", xticklabels=labels, yticklabels=labels)\n",
    "    plt.title(title)\n",
    "    plt.xlabel(\"Predicted\")\n",
    "    plt.ylabel(\"True\")\n",
    "    plt.show()\n",
    "\n",
    "# Evaluation and metrics for Sarcasm, Sentiment, and Dialect\n",
    "def evaluate_metrics(true_sarcasm, pred_sarcasm, true_sentiment, pred_sentiment, true_dialect, pred_dialect):\n",
    "    # Sarcasm Evaluation\n",
    "    print(\"Sarcasm Confusion Matrix:\")\n",
    "    plot_confusion_matrix(true_sarcasm, pred_sarcasm, sarcasm_labels, \"Sarcasm Confusion Matrix\")\n",
    "\n",
    "    print(\"Sarcasm Classification Report:\")\n",
    "    print(classification_report(true_sarcasm, pred_sarcasm, labels=sarcasm_labels, target_names=sarcasm_labels, zero_division=0))\n",
    "    \n",
    "    f1_sarcasm = f1_score(true_sarcasm, pred_sarcasm, labels=sarcasm_labels, average=\"weighted\", zero_division=0)\n",
    "    print(f\"Sarcasm Overall F1 Score: {f1_sarcasm:.2f}\")\n",
    "\n",
    "    # Sentiment Evaluation\n",
    "    print(\"Sentiment Confusion Matrix:\")\n",
    "    plot_confusion_matrix(true_sentiment, pred_sentiment, sentiment_labels, \"Sentiment Confusion Matrix\")\n",
    "\n",
    "    print(\"Sentiment Classification Report:\")\n",
    "    print(classification_report(true_sentiment, pred_sentiment, labels=sentiment_labels, target_names=sentiment_labels, zero_division=0))\n",
    "\n",
    "    f1_sentiment = f1_score(true_sentiment, pred_sentiment, labels=sentiment_labels, average=\"weighted\", zero_division=0)\n",
    "    print(f\"Sentiment Overall F1 Score: {f1_sentiment:.2f}\")\n",
    "\n",
    "    # Dialect Evaluation\n",
    "    print(\"Dialect Confusion Matrix:\")\n",
    "    plot_confusion_matrix(true_dialect, pred_dialect, dialect_labels, \"Dialect Confusion Matrix\")\n",
    "\n",
    "    print(\"Dialect Classification Report:\")\n",
    "    print(classification_report(true_dialect, pred_dialect, labels=dialect_labels, target_names=dialect_labels, zero_division=0))\n",
    "\n",
    "    f1_dialect = f1_score(true_dialect, pred_dialect, labels=dialect_labels, average=\"weighted\", zero_division=0)\n",
    "    print(f\"Dialect Overall F1 Score: {f1_dialect:.2f}\")\n",
    "\n",
    "# Run evaluation on the full dataset\n",
    "evaluate_metrics(true_sarcasm, pred_sarcasm, true_sentiment, pred_sentiment, true_dialect, pred_dialect)"
   ]
  }
 ],
 "metadata": {
  "language_info": {
   "name": "python"
  }
 },
 "nbformat": 4,
 "nbformat_minor": 2
}
